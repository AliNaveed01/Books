{
 "cells": [
  {
   "cell_type": "markdown",
   "metadata": {},
   "source": [
    "- **Name:** Mohammad Anas\n",
    "- **Roll Number:** 20L-1289\n",
    "- **Section:** BDS-8A\n",
    "- **Part 1**\n",
    "- **Assignment 1**"
   ]
  },
  {
   "cell_type": "markdown",
   "metadata": {},
   "source": [
    "# **Regular Expressions and Preprocessing**"
   ]
  },
  {
   "cell_type": "markdown",
   "metadata": {},
   "source": [
    "# Importing Required Libraries"
   ]
  },
  {
   "cell_type": "code",
   "execution_count": 8,
   "metadata": {},
   "outputs": [],
   "source": [
    "import nltk\n",
    "import re\n",
    "from pprint import pprint\n",
    "from urllib import request\n",
    "from bs4 import BeautifulSoup \n",
    "import warnings\n",
    "warnings.filterwarnings('ignore')"
   ]
  },
  {
   "cell_type": "markdown",
   "metadata": {},
   "source": [
    "# Question 1"
   ]
  },
  {
   "cell_type": "code",
   "execution_count": 9,
   "metadata": {},
   "outputs": [
    {
     "name": "stdout",
     "output_type": "stream",
     "text": [
      "Regex (a):\n",
      "{The} {quick} {brown} {fox} {jumps} {over} {the} {lazy} {dog}. {piet} {poot} {pat} {pit} {put} 123 45.67 {aeio} 678.90\n",
      "\n",
      "Regex (b):\n",
      "{The} quick brown fox jumps over the lazy dog. piet poot pat pit put 123 45.67 aeio 678.90\n",
      "\n",
      "Regex (c):\n",
      "The quick brown fox jumps over the lazy dog. {piet} {poot} {pat} {pit} {put} 123 45.67 aeio 678.90\n",
      "\n",
      "Regex (d):\n",
      "The quick brown fox jumps over the lazy dog. piet poot pat pit put {123} {45.67} aeio {678.90}\n",
      "\n",
      "Regex (e):\n",
      "{}T{he }{}q{}u{}i{}c{}k{} {}b{row}{}n{} {fox}{} {jum}{}p{}s{ ov}{}e{}r{} {}t{he laz}{}y{} {dog}{}.{} {}p{}i{}e{}t{} {}p{}o{}o{}t{} {pat}{} {pit}{} {put}{} {}1{}2{}3{} {}4{}5{}.{}6{}7{} {}a{}e{}i{}o{} {}6{}7{}8{}.{}9{}0{}\n",
      "\n",
      "Regex (f):\n",
      "{The} {quick} {brown} {fox} {jumps} {over} {the} {lazy} {dog}{.} {piet} {poot} {pat} {pit} {put} {123} {45}{.}{67} {aeio} {678}{.}{90}\n"
     ]
    }
   ],
   "source": [
    "regex_a = r'[a-zA-Z]+'\n",
    "regex_b = r'[A-Z][a-z]*'\n",
    "regex_c = r'p[aeiou]{,2}t'\n",
    "regex_d = r'\\d+(\\.\\d+)?'\n",
    "regex_e = r'([^aeiou][aeiou][^aeiou])*'\n",
    "regex_f = r'\\w+|[^\\w\\s]+'\n",
    "\n",
    "test_string = \"The quick brown fox jumps over the lazy dog. piet poot pat pit put 123 45.67 aeio 678.90\"\n",
    "\n",
    "print(\"Regex (a):\")\n",
    "nltk.re_show(regex_a, test_string)\n",
    "\n",
    "print(\"\\nRegex (b):\")\n",
    "nltk.re_show(regex_b, test_string)\n",
    "\n",
    "print(\"\\nRegex (c):\")\n",
    "nltk.re_show(regex_c, test_string)\n",
    "\n",
    "print(\"\\nRegex (d):\")\n",
    "nltk.re_show(regex_d, test_string)\n",
    "\n",
    "print(\"\\nRegex (e):\")\n",
    "nltk.re_show(regex_e, test_string)\n",
    "\n",
    "print(\"\\nRegex (f):\")\n",
    "nltk.re_show(regex_f, test_string)\n"
   ]
  },
  {
   "cell_type": "markdown",
   "metadata": {},
   "source": [
    "# Question 2"
   ]
  },
  {
   "cell_type": "code",
   "execution_count": 10,
   "metadata": {},
   "outputs": [
    {
     "name": "stdout",
     "output_type": "stream",
     "text": [
      "Determiners in text_a: ['a', 'a', 'an']\n",
      "Arithmetic expressions in text_b: ['2*3+8']\n"
     ]
    }
   ],
   "source": [
    "determiner_regex = r'\\b(?:a|an|the)\\b'\n",
    "arithmetic_expression_regex = r'\\b(?:\\d+(?:\\*\\d+|\\+\\d+|\\d*)+)+\\b'\n",
    "\n",
    "text_a = \"The quick brown fox jumps over a lazy dog. The dog is a very lazy animal. I am an animal.\"\n",
    "text_b = \"Calculate: 2*3+8.\"\n",
    "\n",
    "# Find determiners\n",
    "matches_a = re.findall(determiner_regex, text_a)\n",
    "print(\"Determiners in text_a:\", matches_a)\n",
    "\n",
    "# Find arithmetic expressions\n",
    "matches_b = re.findall(arithmetic_expression_regex, text_b)\n",
    "print(\"Arithmetic expressions in text_b:\", matches_b)"
   ]
  },
  {
   "cell_type": "markdown",
   "metadata": {},
   "source": [
    "# Question 3"
   ]
  },
  {
   "cell_type": "code",
   "execution_count": 11,
   "metadata": {},
   "outputs": [
    {
     "data": {
      "text/plain": [
       "'\\n\\n\\n\\n\\n\\n\\n\\n\\n\\n\\n\\n\\n\\n\\n\\n\\n\\nCampus - Faculty\\n\\n\\n\\n\\nTel: (042) 111 128 128\\n\\n        Follow us:\\n        \\n\\n\\n\\nEmail: admissions.lhr@nu.edu.pk\\nBlock-B, Faisal Town, Lahore.\\n\\n\\n\\n\\n\\n\\n\\nNational University of Computer and Emerging Sciences\\n\\n\\n\\n\\n\\n\\n\\n\\n\\n                NU\\n        \\n\\nHome\\n\\nAbout\\n\\nFaculty\\n\\nCampus Life\\n\\nSocieties\\n\\n\\n\\n\\n                departments\\n        \\n\\nFAST School of Management\\n\\nFAST School of Computing\\n\\nDepartment of Electrical Engineering\\n\\nDepartment of Civil Engineering\\n\\nDepartment of Sciences and Humanities\\n\\n\\n\\nAdmissions\\n\\nInformation\\n\\nFee Structure\\n\\n\\n\\n\\n                Support\\n        \\n\\nSlate\\n\\nFlex\\n\\nQEC\\n\\nSupport Departments\\n\\n\\n\\n\\n                Research\\n        \\n\\nGroups\\n\\nJCR\\n\\n\\n\\n\\n\\n\\n                Alumni\\n        \\n\\nAchievement Award\\n\\nAlumni Survey\\n\\nAlumni Card\\n\\n\\n\\nnews & events\\n\\n\\n\\n\\n\\n\\n\\n\\n\\nFaculty\\n\\nCampus >\\n        Faculty\\n\\n\\n\\n\\nFAST School of Computing\\nDepartment of Electrical Engineering\\nDepartment of Civil Engineering\\nFAST School of Management\\nDepartment of Science & Humanities\\n\\n\\n\\n\\nFAST School of Computing Faculty\\n\\n\\n\\n\\n\\n\\n\\n\\n\\nDr. Kashif Zafar\\nProfessor & HOD\\n                        \\n                          HEC Approved PhD Supervisor \\n                        \\n                        \\nkashif.zafar@nu.edu.pk\\n\\n\\n\\n\\n\\n\\n\\n\\n\\n\\n\\nDr. Aamir Wali\\nProfessor\\n                        \\n                          HEC Approved PhD Supervisor \\n                        \\n                        \\naamir.wali@nu.edu.pk\\n\\n\\n\\n\\n\\n\\n\\n\\n\\n\\n\\nDr. Asif Mahmood Gillani\\nProfessor\\n                        \\n                          HEC Approved PhD Supervisor \\n                        \\n                        \\nasif.gilani@nu.edu.pk\\n\\n\\n\\n\\n\\n\\n\\n\\n\\n\\n\\nDr. Hammad Naveed\\nProfessor\\n                        \\n                          HEC Approved PhD Supervisor \\n                        \\n                        \\nhammad.naveed@nu.edu.pk\\n\\n\\n\\n\\n\\n\\n\\n\\n\\n\\n\\nDr. Zareen Alamgir\\nProfessor\\n                        \\n                          HEC Approved PhD Supervisor \\n                        \\n                        \\nzareen.alamgir@nu.edu.pk\\n\\n\\n\\n\\n\\n\\n\\n\\n\\n\\n\\nDr. Arshad Ali\\nAssociate Professor\\n                        \\n                          HEC Approved PhD Supervisor \\n                        \\n                        \\narshad.ali1@nu.edu.pk\\n\\n\\n\\n\\n\\n\\n\\n\\n\\n\\n\\nDr. Asma Naseer\\nAssociate Professor\\n                        \\n                          HEC Approved PhD Supervisor \\n                        \\n                        \\nasma.naseer@nu.edu.pk\\n\\n\\n\\n\\n\\n\\n\\n\\n\\n\\n\\nDr. Irfan Younas\\nAssociate Professor\\n                        \\n                          HEC Approved PhD Supervisor \\n                          On Leave \\n                        \\nirfan.younas@nu.edu.pk\\n\\n\\n\\n\\n\\n\\n\\n\\n\\n\\n\\nDr. Rana Asif Rehman\\nAssociate Professor\\n                        \\n                          HEC Approved PhD Supervisor \\n                        \\n                        \\nr.asif@nu.edu.pk\\n\\n\\n\\n\\n\\n\\n\\n\\n\\n\\n\\nDr. Saira Karim\\nAssociate Professor\\n                        \\n                          HEC Approved PhD Supervisor \\n                        \\n                        \\nsaira.karim@nu.edu.pk\\n\\n\\n\\n\\n\\n\\n\\n\\n\\n\\n\\nDr. Zeeshan Ali Khan\\nAssociate Professor\\n                        \\n                          HEC Approved PhD Supervisor \\n                        \\n                        \\nzeeshanali.khan@nu.edu.pk\\n\\n\\n\\n\\n\\n\\n\\n\\n\\n\\n\\nDr. Aatira Anum\\nAssistant Professor\\n                        \\n                        \\n                        \\n                        \\naatira.anum@nu.edu.pk\\n\\n\\n\\n\\n\\n\\n\\n\\n\\n\\n\\nDr. Ali Afzal Malik\\nAssistant Professor\\n                        \\n                          HEC Approved PhD Supervisor \\n                        \\n                        \\nali.afzal@nu.edu.pk\\n\\n\\n\\n\\n\\n\\n\\n\\n\\n\\n\\nDr. Ammar Haider\\nAssistant Professor\\n                        \\n                        \\n                        \\n                        \\nammar.haider@nu.edu.pk\\n\\n\\n\\n\\n\\n\\n\\n\\n\\n\\n\\nDr. Asma Ahmad\\nAssistant Professor\\n                        \\n                        \\n                        \\n                        \\nasma.ahmad@nu.edu.pk\\n\\n\\n\\n\\n\\n\\n\\n\\n\\n\\n\\nDr. Faisal Aslam\\nAssistant Professor\\n                        \\n                        \\n                        \\n                        \\nfaisal.aslam@nu.edu.pk\\n\\n\\n\\n\\n\\n\\n\\n\\n\\n\\n\\nDr. Farooq Ahmed\\nAssistant Professor\\n                        \\n                        \\n                        \\n                        \\nfarooq.ahmad@nu.edu.pk\\n\\n\\n\\n\\n\\n\\n\\n\\n\\n\\n\\nDr. Hajra Waheed\\nAssistant Professor\\n                        \\n                        \\n                        \\n                        \\nhajra.waheed@nu.edu.pk\\n\\n\\n\\n\\n\\n\\n\\n\\n\\n\\n\\nDr. Haroon Mahmood\\nAssistant Professor\\n                        \\n                          HEC Approved PhD Supervisor \\n                        \\n                        \\nharoon.mahmood@nu.edu.pk\\n\\n\\n\\n\\n\\n\\n\\n\\n\\n\\n\\nDr. Iqra Safder\\nAssistant Professor\\n                        \\n                        \\n                          On Leave \\n                        \\niqra.safder@nu.edu.pk\\n\\n\\n\\n\\n\\n\\n\\n\\n\\n\\n\\nDr. Maryam Bashir\\nAssistant Professor\\n                        \\n                          HEC Approved PhD Supervisor \\n                        \\n                        \\nmaryam.bashir@nu.edu.pk\\n\\n\\n\\n\\n\\n\\n\\n\\n\\n\\n\\nDr. Mirza Mubasher Baig\\nAssistant Professor\\n                        \\n                          HEC Approved PhD Supervisor \\n                        \\n                        \\nmubasher.baig@nu.edu.pk\\n\\n\\n\\n\\n\\n\\n\\n\\n\\n\\n\\nDr. Muhammad Ahmad Raza\\nAssistant Professor\\n                        \\n                        \\n                        \\n                        \\nmuhammad.ahmadraza@nu.edu.pk\\n\\n\\n\\n\\n\\n\\n\\n\\n\\n\\n\\nDr. Syed Mohammad Irteza\\nAssistant Professor\\n                        \\n                          HEC Approved PhD Supervisor \\n                        \\n                        \\nm.Irteza@nu.edu.pk\\n\\n\\n\\n\\n\\n\\n\\n\\n\\n\\n\\nDr. Tahir Ejaz\\nAssistant Professor\\n                        \\n                        \\n                        \\n                        \\ntahir.ejaz@nu.edu.pk\\n\\n\\n\\n\\n\\n\\n\\n\\n\\n\\n\\nDr. Zeeshan Ali Rana\\nAssistant Professor\\n                        \\n                          HEC Approved PhD Supervisor \\n                        \\n                        \\nzeeshan.rana@nu.edu.pk\\n\\n\\n\\n\\n\\n\\n\\n\\n\\n\\n\\nMr. Aamir Raheem\\nAssistant Professor\\n                        \\n                        \\naamir.raheem@nu.edu.pk\\n\\n\\n\\n\\n\\n\\n\\n\\n\\n\\n\\nMs. Abeeda Akram\\nAssistant Professor\\n                        \\n                        \\nabeeda.akram@nu.edu.pk\\n\\n\\n\\n\\n\\n\\n\\n\\n\\n\\n\\nMr. Ishaq Raza\\nAssistant Professor\\n                        \\n                        \\nishaq.raza@nu.edu.pk\\n\\n\\n\\n\\n\\n\\n\\n\\n\\n\\n\\nMs. Lehmia Kiran\\nAssistant Professor\\n                        \\n                        \\nlehmia.kiran@nu.edu.pk\\n\\n\\n\\n\\n\\n\\n\\n\\n\\n\\n\\nMs. Noshaba Nasir\\nAssistant Professor\\n                          On Leave \\n                        \\nnoshaba.nasir@nu.edu.pk\\n\\n\\n\\n\\n\\n\\n\\n\\n\\n\\n\\nMr. Omer Ali\\nAssistant Professor\\n                          On Leave \\n                        \\nali.omer@nu.edu.pk\\n\\n\\n\\n\\n\\n\\n\\n\\n\\n\\n\\nMs. Samin Iftikhar\\nAssistant Professor\\n                        \\n                        \\nsamin.iftikhar@nu.edu.pk\\n\\n\\n\\n\\n\\n\\n\\n\\n\\n\\n\\nMs. Sobia Tariq Javed\\nAssistant Professor\\n                        \\n                        \\nsobia.tariq@nu.edu.pk\\n\\n\\n\\n\\n\\n\\n\\n\\n\\n\\n\\nMs. Tahreem Yasir\\nAssistant Professor\\n                          On Leave \\n                        \\ntahreem.yasir@nu.edu.pk\\n\\n\\n\\n\\n\\n\\n\\n\\n\\n\\n\\nMr. Waqar Baig\\nAssistant Professor\\n                        \\n                        \\nwaqar.baig@nu.edu.pk\\n\\n\\n\\n\\n\\n\\n\\n\\n\\n\\n\\nMr. Waqas Manzoor\\nAssistant Professor\\n                        \\n                        \\nwaqas.manzoor@nu.edu.pk\\n\\n\\n\\n\\n\\n\\n\\n\\n\\n\\n\\nMs. Aleena Ahmad\\nLecturer\\n                        \\n                        \\naleena.ahmad@nu.edu.pk\\n\\n\\n\\n\\n\\n\\n\\n\\n\\n\\n\\nMs. Anosha Khan\\nLecturer\\n                        \\n                        \\nanosha.khan@nu.edu.pk\\n\\n\\n\\n\\n\\n\\n\\n\\n\\n\\n\\nMs. Arooj Khalil\\nLecturer\\n                        \\n                        \\narooj.khalil@nu.edu.pk\\n\\n\\n\\n\\n\\n\\n\\n\\n\\n\\n\\nMs. Asbah Khalid\\nLecturer\\n                        \\n                        \\nasbah.khalid@lhr.nu.edu.pk\\n\\n\\n\\n\\n\\n\\n\\n\\n\\n\\n\\nMr. Danyal Farhat\\nLecturer\\n                        \\n                        \\ndanyal.farhat@nu.edu.pk\\n\\n\\n\\n\\n\\n\\n\\n\\n\\n\\n\\nMr. Fraz Yousaf\\nLecturer\\n                        \\n                        \\nfraz.yousaf@nu.edu.pk\\n\\n\\n\\n\\n\\n\\n\\n\\n\\n\\n\\nMr. Hafiz Muhammad Usama Hassan Alvi\\nLecturer\\n                        \\n                        \\nusama.hassan@nu.edu.pk\\n\\n\\n\\n\\n\\n\\n\\n\\n\\n\\n\\nMs. Hafsa Tariq Javed\\nLecturer\\n                          On Leave \\n                        \\nhafsa.tariq@nu.edu.pk\\n\\n\\n\\n\\n\\n\\n\\n\\n\\n\\n\\nMr. Hamad Ul Qudous\\nLecturer\\n                        \\n                        \\nhamad.ulqudous@nu.edu.pk\\n\\n\\n\\n\\n\\n\\n\\n\\n\\n\\n\\nMs. Hina Iqbal\\nLecturer\\n                        \\n                        \\nhina.iqbal@nu.edu.pk\\n\\n\\n\\n\\n\\n\\n\\n\\n\\n\\n\\nMs. Hira Butt\\nLecturer\\n                        \\n                        \\nhira.butt@nu.edu.pk\\n\\n\\n\\n\\n\\n\\n\\n\\n\\n\\n\\nMs. Hira Ilyas\\nLecturer\\n                          On Leave \\n                        \\nhira.ilyas@nu.edu.pk\\n\\n\\n\\n\\n\\n\\n\\n\\n\\n\\n\\nMr. M. Saif Ul Islam\\nLecturer\\n                        \\n                        \\nmuhammad.saif@nu.edu.pk\\n\\n\\n\\n\\n\\n\\n\\n\\n\\n\\n\\nMs. Maham Naeem\\nLecturer\\n                        \\n                        \\nmaham.naeem@nu.edu.pk\\n\\n\\n\\n\\n\\n\\n\\n\\n\\n\\n\\nMs. Mamoona Majid\\nLecturer\\n                        \\n                        \\nmamoona.majid@nu.edu.pk\\n\\n\\n\\n\\n\\n\\n\\n\\n\\n\\n\\nMs. Mehroze Khan\\nLecturer\\n                        \\n                        \\nmehroze.khan@nu.edu.pk\\n\\n\\n\\n\\n\\n\\n\\n\\n\\n\\n\\nMs. Momna Zaneb\\nLecturer\\n                        \\n                        \\nmomna.zaneb@nu.edu.pk\\n\\n\\n\\n\\n\\n\\n\\n\\n\\n\\n\\nMr. Mubashar Hussain\\nLecturer\\n                        \\n                        \\nmubashar.hussain@nu.edu.pk\\n\\n\\n\\n\\n\\n\\n\\n\\n\\n\\n\\nMr. Muhammad Naveed\\nLecturer\\n                        \\n                        \\nmuhammad.naveed@nu.edu.pk\\n\\n\\n\\n\\n\\n\\n\\n\\n\\n\\n\\nMr. Muhammad Saifullah Tanvir\\nLecturer\\n                        \\n                        \\nsaifullah.tanvir@nu.edu.pk\\n\\n\\n\\n\\n\\n\\n\\n\\n\\n\\n\\nMr. Muhammad Zeeshan Nazar\\nLecturer\\n                        \\n                        \\nzeeshan.nazar@nu.edu.pk\\n\\n\\n\\n\\n\\n\\n\\n\\n\\n\\n\\nMs. Namra Absar\\nLecturer\\n                        \\n                        \\nnamra.absar@nu.edu.pk\\n\\n\\n\\n\\n\\n\\n\\n\\n\\n\\n\\nMr. Razi-uddin\\nLecturer\\n                        \\n                        \\nrazi.uddin@nu.edu.pk\\n\\n\\n\\n\\n\\n\\n\\n\\n\\n\\n\\nMs. Rubab Anam Janjua\\nLecturer\\n                        \\n                        \\nrubab.anam@nu.edu.pk\\n\\n\\n\\n\\n\\n\\n\\n\\n\\n\\n\\nMs. Sana Fatima\\nLecturer\\n                        \\n                        \\nsana.fatima@nu.edu.pk\\n\\n\\n\\n\\n\\n\\n\\n\\n\\n\\n\\nMr. Syed Uzair Hussain Naqvi\\nLecturer\\n                        \\n                        \\nuzair.naqvi@nu.edu.pk\\n\\n\\n\\n\\n\\n\\n\\n\\n\\n\\n\\nMs. Syeda Tayyaba Bukhari\\nLecturer\\n                        \\n                        \\ntayyaba.bukhari@nu.edu.pk\\n\\n\\n\\n\\n\\n\\n\\n\\n\\n\\n\\nMs. Tazeem Haider\\nLecturer\\n                        \\n                        \\ntazeem.haider@nu.edu.pk\\n\\n\\n\\n\\n\\n\\n\\n\\n\\n\\n\\nMs. Umm E Ammarah\\nLecturer\\n                        \\n                        \\numme.ammarah@nu.edu.pk\\n\\n\\n\\n\\n\\n\\n\\n\\n\\n\\n\\nMr. Junaid Hussain Muzammal\\nInstructor\\n                        \\n                        \\njunaid.hussain@nu.edu.pk\\n\\n\\n\\n\\n\\n\\n\\n\\n\\n\\n\\nMr. Muhammad Usman Anwer\\nInstructor\\n                        \\n                        \\nusman.anwer@lhr.nu.edu.pk\\n\\n\\n\\n\\n\\n\\n\\n\\n\\n\\n\\nMs. Seemab Ayub\\nInstructor\\n                        \\n                        \\nseemab.ayub@nu.edu.pk\\n\\n\\n\\n\\n\\n\\n\\n\\n\\n\\n\\nMr. Sohaib Ahmad\\nInstructor\\n                        \\n                        \\nsohaib.ahmad@nu.edu.pk\\n\\n\\n\\n\\n\\n\\n\\n\\n\\n\\n\\nMs. Sukhan Amir\\nInstructor\\n                        \\n                        \\nsukhan.amir@nu.edu.pk\\n\\n\\n\\n\\n\\n\\n\\n\\n\\n\\n\\nMs. Syeda Zehra Batool\\nInstructor\\n                        \\n                        \\nzehra.batool@nu.edu.pk\\n\\n\\n\\n\\n\\n\\n\\n\\n\\n\\n\\nMs. Zoha Waheed\\nInstructor\\n                        \\n                        \\nzoha.waheed@nu.edu.pk\\n\\n\\n\\n\\n\\n\\n\\n\\n\\n\\n\\nMs. Mamoona Akbar Khan\\nJunior Lecturer\\n                        \\n                        \\nmamoona.akbar@nu.edu.pk\\n\\n\\n\\n\\n\\n\\n\\n\\n\\n\\n\\nMr. Nauman Moazzam Hayat\\nAdj. Faculty\\n                        \\n                        \\nnauman.moazzam@nu.edu.pk\\n\\n\\n\\n\\n\\n\\n\\n\\n\\n\\n\\nMr. Salman Shoaib\\nJunior Lecturer\\n                        \\n                        \\nsalman.shoaib@nu.edu.pk\\n\\n\\n\\n\\n\\n\\n\\n\\n\\n\\n\\nMs. Samman Ashraf\\nJunior Lecturer\\n                        \\n                        \\nsamman.ashraf@nu.edu.pk\\n\\n\\n\\n\\n\\n\\n\\n\\n\\n\\nDepartment of Electrical Engineering Faculty\\n\\n\\n\\n\\n\\n\\n\\n\\n\\nDr. Saima Zafar\\nProfessor & HOD\\n                        \\n                          HEC Approved PhD Supervisor \\n                        \\n                        \\nsaima.zafar@nu.edu.pk\\n\\n\\n\\n\\n\\n\\n\\n\\n\\n\\n\\nDr. S.M. Sajid\\nProfessor\\n                        \\n                          HEC Approved PhD Supervisor \\n                        \\n                        \\nsm.sajid@nu.edu.pk\\n\\n\\n\\n\\n\\n\\n\\n\\n\\n\\n\\nDr. Syed Aun Abbas\\nProfessor\\n                        \\n                        \\n                        \\n                        \\naun.abbas@nu.edu.pk\\n\\n\\n\\n\\n\\n\\n\\n\\n\\n\\n\\nDr. Omer Saleem\\nAssociate Professor\\n                        \\n                          HEC Approved PhD Supervisor \\n                        \\n                        \\nomer.saleem@nu.edu.pk\\n\\n\\n\\n\\n\\n\\n\\n\\n\\n\\n\\nDr. Jabran Khan\\nAssistant Professor\\n                        \\n                        \\n                          On Leave \\n                        \\njabran.khan@nu.edu.pk\\n\\n\\n\\n\\n\\n\\n\\n\\n\\n\\n\\nDr. Kashif Saeed\\nAssistant Professor\\n                        \\n                        \\n                        \\n                        \\nkashif.saeed@nu.edu.pk\\n\\n\\n\\n\\n\\n\\n\\n\\n\\n\\n\\nMr. Abdul Majid\\nAssistant Professor\\n                        \\n                        \\nabdul.majid@nu.edu.pk\\n\\n\\n\\n\\n\\n\\n\\n\\n\\n\\n\\nMs. Beenish Fatima\\nAssistant Professor\\n                        \\n                        \\nbeenish.fatima@nu.edu.pk\\n\\n\\n\\n\\n\\n\\n\\n\\n\\n\\n\\nMs. Bushra Rashid\\nAssistant Professor\\n                        \\n                        \\nbushra.rashid@nu.edu.pk\\n\\n\\n\\n\\n\\n\\n\\n\\n\\n\\n\\nMr. Haris Mujtaba\\nAssistant Professor\\n                        \\n                        \\nharis.kazmi@nu.edu.pk\\n\\n\\n\\n\\n\\n\\n\\n\\n\\n\\n\\nMr. Kamran Jamal\\nAssistant Professor\\n                        \\n                        \\nkamran.jamal@nu.edu.pk\\n\\n\\n\\n\\n\\n\\n\\n\\n\\n\\n\\nMs. Maimoona Akram\\nAssistant Professor\\n                        \\n                        \\nmaimoona.akram@nu.edu.pk\\n\\n\\n\\n\\n\\n\\n\\n\\n\\n\\n\\nMr. Mohsin Yousaf\\nAssistant Professor\\n                        \\n                        \\nmohsin.yousuf@nu.edu.pk\\n\\n\\n\\n\\n\\n\\n\\n\\n\\n\\n\\nMs. Shazia Haque\\nAssistant Professor\\n                        \\n                        \\nshazia.haque@nu.edu.pk\\n\\n\\n\\n\\n\\n\\n\\n\\n\\n\\n\\nMs. Tamania Javed\\nAssistant Professor\\n                        \\n                        \\ntamania.javaid@nu.edu.pk\\n\\n\\n\\n\\n\\n\\n\\n\\n\\n\\n\\nMs. Akbare Yaqub\\nLecturer\\n                        \\n                        \\nakbari.yaqoob@nu.edu.pk\\n\\n\\n\\n\\n\\n\\n\\n\\n\\n\\n\\nMs. Aroosa Umair\\nLecturer\\n                        \\n                        \\naroosa.umair@nu.edu.pk\\n\\n\\n\\n\\n\\n\\n\\n\\n\\n\\n\\nMr. Hamza Yousaf\\nLecturer\\n                        \\n                        \\nhamza.yousuf@nu.edu.pk\\n\\n\\n\\n\\n\\n\\n\\n\\n\\n\\n\\nMs. Samia Mahmood\\nLecturer\\n                        \\n                        \\nsamia.mahmood@nu.edu.pk\\n\\n\\n\\n\\n\\n\\n\\n\\n\\n\\n\\nMs. Sara Kiran\\nLecturer\\n                        \\n                        \\nsara.kiran@nu.edu.pk\\n\\n\\n\\n\\n\\n\\n\\n\\n\\n\\n\\nMr. Syed Muhammad Ismail\\nLecturer\\n                        \\n                        \\nmuhammad.ismail@nu.edu.pk\\n\\n\\n\\n\\n\\n\\n\\n\\n\\n\\n\\nMr. Umer Altaf\\nLecturer\\n                          On Leave \\n                        \\numer.altaf@nu.edu.pk\\n\\n\\n\\n\\n\\n\\n\\n\\n\\n\\n\\nMs. Eisha Khan\\nLab Engineer\\n                        \\n                        \\neisha.khan@nu.edu.pk\\n\\n\\n\\n\\n\\n\\n\\n\\n\\n\\nDepartment of Civil Engineering Faculty\\n\\n\\n\\n\\n\\n\\n\\n\\n\\nDr. Shahid Ali\\nProfessor & HOD\\n                        \\n                          HEC Approved PhD Supervisor \\n                        \\n                        \\nshahid.ali@nu.edu.pk\\n\\n\\n\\n\\n\\n\\n\\n\\n\\n\\n\\nDr. Syed Ali Rizwan Bukhari\\nProfessor\\n                        \\n                          HEC Approved PhD Supervisor \\n                        \\n                        \\nsyed.ali@nu.edu.pk\\n\\n\\n\\n\\n\\n\\n\\n\\n\\n\\n\\nDr. Javaid Ahmad\\nAssociate Professor\\n                        \\n                          HEC Approved PhD Supervisor \\n                          On Leave \\n                        \\nJavaid.ahmad@nu.edu.pk\\n\\n\\n\\n\\n\\n\\n\\n\\n\\n\\n\\nDr. Tauqir Ahmed\\nAssociate Professor\\n                        \\n                          HEC Approved PhD Supervisor \\n                        \\n                        \\ntauqir.ahmed@nu.edu.pk\\n\\n\\n\\n\\n\\n\\n\\n\\n\\n\\n\\nDr. Waseem Mirza\\nAssociate Professor\\n                        \\n                        \\n                          On Leave \\n                        \\nwaseem.mirza@nu.edu.pk\\n\\n\\n\\n\\n\\n\\n\\n\\n\\n\\n\\nDr. Muhammad Abdullah\\nAssistant Professor\\n                        \\n                          HEC Approved PhD Supervisor \\n                          On Leave \\n                        \\nabdullah.rana@nu.edu.pk\\n\\n\\n\\n\\n\\n\\n\\n\\n\\n\\n\\nDr. Muhammad Umar\\nAssistant Professor\\n                        \\n                          HEC Approved PhD Supervisor \\n                        \\n                        \\nm.umar@nu.edu.pk\\n\\n\\n\\n\\n\\n\\n\\n\\n\\n\\n\\nMr. Ali Raza Khalid\\nAssistant Professor\\n                        \\n                        \\naliraza.khalid@nu.edu.pk\\n\\n\\n\\n\\n\\n\\n\\n\\n\\n\\n\\nMs. Sarah Asif\\nAssistant Professor\\n                        \\n                        \\nsarah.asif@nu.edu.pk\\n\\n\\n\\n\\n\\n\\n\\n\\n\\n\\n\\nMr. Umar Khan Niazi\\nAssistant Professor\\n                        \\n                        \\numar.niazi@nu.edu.pk\\n\\n\\n\\n\\n\\n\\n\\n\\n\\n\\n\\nMr. Anns Tahir\\nLecturer\\n                        \\n                        \\nanns.tahir@nu.edu.pk\\n\\n\\n\\n\\n\\n\\n\\n\\n\\n\\n\\nMr. Asim Iqbal\\nLecturer\\n                        \\n                        \\nasim.iqbal@nu.edu.pk\\n\\n\\n\\n\\n\\n\\n\\n\\n\\n\\n\\nMr. Fahad Haseeb\\nLecturer\\n                        \\n                        \\nfahad.haseeb@nu.edu.pk\\n\\n\\n\\n\\n\\n\\n\\n\\n\\n\\n\\nMs. Mahnoor\\nLecturer\\n                        \\n                        \\nmahnoor.akram@nu.edu.pk\\n\\n\\n\\n\\n\\n\\n\\n\\n\\n\\n\\nMr. Mubashir Islam\\nLecturer\\n                        \\n                        \\nmubashir.islam@nu.edu.pk\\n\\n\\n\\n\\n\\n\\n\\n\\n\\n\\n\\nMr. Shoaib Ameer\\nLecturer\\n                        \\n                        \\nshoaib.ameer@nu.edu.pk\\n\\n\\n\\n\\n\\n\\n\\n\\n\\n\\n\\nMr. Hamza Ali\\nLab Engineer\\n                        \\n                        \\nhamza.ali@nu.edu.pk\\n\\n\\n\\n\\n\\n\\n\\n\\n\\n\\n\\nMs. Maham Akram\\nLab Engineer\\n                        \\n                        \\nmaham.akram@nu.edu.pk\\n\\n\\n\\n\\n\\n\\n\\n\\n\\n\\n\\nMs. Malieka Batool\\nLab Engineer\\n                        \\n                        \\nmalieka.batool@nu.edu.pk\\n\\n\\n\\n\\n\\n\\n\\n\\n\\n\\n\\nMr. Syed M Muneeb\\nLab Engineer\\n                        \\n                        \\nm.muneeb@nu.edu.pk\\n\\n\\n\\n\\n\\n\\n\\n\\n\\n\\nFAST School of Management Faculty\\n\\n\\n\\n\\n\\n\\n\\n\\n\\nDr. Hamid Hassan\\nProfessor & HOD\\n                        \\n                          HEC Approved PhD Supervisor \\n                        \\n                        \\nhamid.hassan@nu.edu.pk\\n\\n\\n\\n\\n\\n\\n\\n\\n\\n\\n\\nDr. Akbar Azam\\nAssociate Professor\\n                        \\n                          HEC Approved PhD Supervisor \\n                        \\n                        \\nakbar.azam@nu.edu.pk\\n\\n\\n\\n\\n\\n\\n\\n\\n\\n\\n\\nDr. Ammar Javed\\nAssistant Professor\\n                        \\n                        \\n                        \\n                        \\nammar.javed@nu.edu.pk\\n\\n\\n\\n\\n\\n\\n\\n\\n\\n\\n\\nDr. Amna Farrukh\\nAssistant Professor\\n                        \\n                        \\n                        \\n                        \\namna.farrukh@nu.edu.pk\\n\\n\\n\\n\\n\\n\\n\\n\\n\\n\\n\\nDr. Brig Mujahid Hussain\\nAdjunct Assistant Professor\\n                        \\n                          HEC Approved PhD Supervisor \\n                        \\n                        \\nmujahid.hussain@nu.edu.pk\\n\\n\\n\\n\\n\\n\\n\\n\\n\\n\\n\\nDr. Fatima Omer\\nAssistant Professor\\n                        \\n                        \\n                        \\n                        \\nfatima.omer@nu.edu.pk\\n\\n\\n\\n\\n\\n\\n\\n\\n\\n\\n\\nDr. Komal Kamran\\nAssistant Professor\\n                        \\n                        \\n                        \\n                        \\nkomal.kamran@nu.edu.pk\\n\\n\\n\\n\\n\\n\\n\\n\\n\\n\\n\\nDr. Mian Muhammad Atif\\nAssistant Professor\\n                        \\n                          HEC Approved PhD Supervisor \\n                        \\n                        \\nmian.atif @nu.edu.pk\\n\\n\\n\\n\\n\\n\\n\\n\\n\\n\\n\\nDr. Umer Iqbal\\nAssistant Professor\\n                        \\n                          HEC Approved PhD Supervisor \\n                        \\n                        \\numer.iqbal@nu.edu.pk\\n\\n\\n\\n\\n\\n\\n\\n\\n\\n\\n\\nDr. Zia Khan\\nAssistant Professor\\n                        \\n                          HEC Approved PhD Supervisor \\n                        \\n                        \\nzia.khan@nu.edu.pk\\n\\n\\n\\n\\n\\n\\n\\n\\n\\n\\n\\nMr. Aamer Allauddin\\nAssistant Professor\\n                        \\n                        \\nallauddin@gmail.com\\n\\n\\n\\n\\n\\n\\n\\n\\n\\n\\n\\nMr. Shakeel Ahmad\\nAssistant Professor\\n                        \\n                        \\nshakeel.ahmad@nu.edu.pk\\n\\n\\n\\n\\n\\n\\n\\n\\n\\n\\n\\nMs. Amina Tabassum\\nLecturer\\n                        \\n                        \\namina.tabassum@nu.edu.pk\\n\\n\\n\\n\\n\\n\\n\\n\\n\\n\\n\\nMs. Aroosa Safdar\\nLecturer\\n                        \\n                        \\naroosa.safdar@nu.edu.pk\\n\\n\\n\\n\\n\\n\\n\\n\\n\\n\\n\\nMs. Ayesha Arshad\\nLecturer\\n                        \\n                        \\nayesha.arshad@nu.edu.pk\\n\\n\\n\\n\\n\\n\\n\\n\\n\\n\\n\\nMs. Beenish Arshad\\nLecturer\\n                        \\n                        \\nbeenish.arshad@nu.edu.pk\\n\\n\\n\\n\\n\\n\\n\\n\\n\\n\\n\\nMs. Fatima Habib\\nLecturer\\n                        \\n                        \\nfatima.habib@nu.edu.pk\\n\\n\\n\\n\\n\\n\\n\\n\\n\\n\\n\\nMs. Irma Tariq\\nLecturer\\n                        \\n                        \\nirma.tariq@nu.edu.pk\\n\\n\\n\\n\\n\\n\\n\\n\\n\\n\\n\\nMs. Khadija Aslam\\nLecturer\\n                        \\n                        \\nkhadija.aslam@nu.edu.pk\\n\\n\\n\\n\\n\\n\\n\\n\\n\\n\\n\\nMs. Noor Zahid\\nLecturer\\n                        \\n                        \\nnoor.zahid@nu.edu.pk\\n\\n\\n\\n\\n\\n\\n\\n\\n\\n\\n\\nMr. Salmaan Khalil Rahman\\nAdjunct Lecturer\\n                        \\n                        \\nsalmaan.rahman@nu.edu.pk\\n\\n\\n\\n\\n\\n\\n\\n\\n\\n\\n\\nMs. Sundas Munir\\nLecturer\\n                        \\n                        \\nsundas.munir@nu.edu.pk\\n\\n\\n\\n\\n\\n\\n\\n\\n\\n\\n\\nMs. Ghulam Fatima\\nInstructor\\n                        \\n                        \\nghulam.fatima@nu.edu.pk\\n\\n\\n\\n\\n\\n\\n\\n\\n\\n\\n\\nMs. Iman Ilyas\\nInstructor\\n                        \\n                        \\niman.ilyas@nu.edu.pk\\n\\n\\n\\n\\n\\n\\n\\n\\n\\n\\nDepartment of Science & Humanities Faculty\\n\\n\\n\\n\\n\\n\\n\\n\\n\\nDr. Mubashir Qayyum\\nProfessor & HOD\\n                        \\n                          HEC Approved PhD Supervisor \\n                        \\n                        \\nmubashir.qayyum@nu.edu.pk\\n\\n\\n\\n\\n\\n\\n\\n\\n\\n\\n\\nDr. Summaira Sarfraz\\nProfessor\\n                          Dean (Faculty of Sciences & Humanities) \\n                          HEC Approved PhD Supervisor \\n                        \\n                        \\nsumaira.sarfraz@nu.edu.pk\\n\\n\\n\\n\\n\\n\\n\\n\\n\\n\\n\\nDr. Akhlaq Ahmad Bhatti\\nProfessor\\n                        \\n                          HEC Approved PhD Supervisor \\n                        \\n                        \\nakhlaq.ahmad@nu.edu.pk\\n\\n\\n\\n\\n\\n\\n\\n\\n\\n\\n\\nDr. Mazhar Hussain\\nProfessor\\n                        \\n                          HEC Approved PhD Supervisor \\n                        \\n                        \\nmazhar.hussain@nu.edu.pk\\n\\n\\n\\n\\n\\n\\n\\n\\n\\n\\n\\nDr. Saman Shahid\\nProfessor\\n                        \\n                          HEC Approved PhD Supervisor \\n                        \\n                        \\nsaman.shahid@nu.edu.pk\\n\\n\\n\\n\\n\\n\\n\\n\\n\\n\\n\\nDr. Farasat Shamir\\nAssociate Professor\\n                        \\n                          HEC Approved PhD Supervisor \\n                          On Leave \\n                        \\nfarasat.shamir@nu.edu.pk\\n\\n\\n\\n\\n\\n\\n\\n\\n\\n\\n\\nDr. Saeeda Zia\\nAssociate Professor\\n                        \\n                          HEC Approved PhD Supervisor \\n                        \\n                        \\nsaeeda.zia@nu.edu.pk\\n\\n\\n\\n\\n\\n\\n\\n\\n\\n\\n\\nDr. Hira Iqbal\\nAssistant Professor\\n                        \\n                          HEC Approved PhD Supervisor \\n                        \\n                        \\nhira.iqbal@nu.edu.pk\\n\\n\\n\\n\\n\\n\\n\\n\\n\\n\\n\\nDr. Muhammad Tahir Rashid\\nAssistant Professor\\n                        \\n                        \\n                        \\n                        \\ntahir.rashid@nu.edu.pk\\n\\n\\n\\n\\n\\n\\n\\n\\n\\n\\n\\nDr. Tayyaba Naz\\nAssistant Professor\\n                        \\n                          HEC Approved PhD Supervisor \\n                        \\n                        \\ntayyaba.naz@nu.edu.pk\\n\\n\\n\\n\\n\\n\\n\\n\\n\\n\\n\\nDr. Waleed Shehzad\\nAssistant Professor\\n                        \\n                          HEC Approved PhD Supervisor \\n                          On Leave \\n                        \\nwaleed.shehzad@nu.edu.pk\\n\\n\\n\\n\\n\\n\\n\\n\\n\\n\\n\\nDr. Zahida Mansoor\\nAssistant Professor\\n                        \\n                          HEC Approved PhD Supervisor \\n                        \\n                        \\nzahida.mansoor@nu.edu.pk\\n\\n\\n\\n\\n\\n\\n\\n\\n\\n\\n\\nMs. Hajira Ikram Butt\\nAssistant Professor\\n                        \\n                        \\nhajra.ikram@nu.edu.pk\\n\\n\\n\\n\\n\\n\\n\\n\\n\\n\\n\\nMs. Hina Firdous\\nAssistant Professor\\n                        \\n                        \\nhina.firdous@nu.edu.pk\\n\\n\\n\\n\\n\\n\\n\\n\\n\\n\\n\\nMs. Raheela Tariq\\nAssistant Professor\\n                        \\n                        \\nraheela.tariq@nu.edu.pk\\n\\n\\n\\n\\n\\n\\n\\n\\n\\n\\n\\nMr. Zulfiqar Ali\\nAssistant Professor\\n                        \\n                        \\nali.zulfiqar@nu.edu.pk\\n\\n\\n\\n\\n\\n\\n\\n\\n\\n\\n\\nMr. Abdul Sattar\\nLecturer\\n                        \\n                        \\nabdul.sattar@nu.edu.pk\\n\\n\\n\\n\\n\\n\\n\\n\\n\\n\\n\\nMs. Aisha Bano\\nLecturer\\n                          On Leave \\n                        \\naisha.bano@nu.edu.pk\\n\\n\\n\\n\\n\\n\\n\\n\\n\\n\\n\\nMs. Ayesha Saeed\\nLecturer\\n                        \\n                        \\nayesha.saeed@nu.edu.pk\\n\\n\\n\\n\\n\\n\\n\\n\\n\\n\\n\\nMr. Hafiz Hamza Janjua\\nLecturer\\n                        \\n                        \\nhamza.janjua@nu.edu.pk\\n\\n\\n\\n\\n\\n\\n\\n\\n\\n\\n\\nMs. Iqra Rafiq\\nLecturer\\n                          On Leave \\n                        \\niqra.rafiq@nu.edu.pk\\n\\n\\n\\n\\n\\n\\n\\n\\n\\n\\n\\nMs. Kanwal Saleem\\nLecturer\\n                        \\n                        \\nkanwal.saleem@nu.edu.pk\\n\\n\\n\\n\\n\\n\\n\\n\\n\\n\\n\\nMr. Muhammad Yaseen\\nLecturer\\n                        \\n                        \\nm.yaseen@nu.edu.pk\\n\\n\\n\\n\\n\\n\\n\\n\\n\\n\\n\\nMs. Namra Fazal\\nLecturer\\n                        \\n                        \\nnamra.fazal@nu.edu.pk\\n\\n\\n\\n\\n\\n\\n\\n\\n\\n\\n\\nMr. Razm-ul-Zafar\\nLecturer\\n                        \\n                        \\nrazm.zafar@nu.edu.pk\\n\\n\\n\\n\\n\\n\\n\\n\\n\\n\\n\\nMs. Sarah Ahmad\\nLecturer\\n                        \\n                        \\nSarah.ahmad@nu.edu.pk\\n\\n\\n\\n\\n\\n\\n\\n\\n\\n\\n\\nMr. Tasaduque Hussain Shah\\nLecturer\\n                        \\n                        \\ntasduque.hussain@nu.edu.pk\\n\\n\\n\\n\\n\\n\\n\\n\\n\\n\\n\\nMs. Mahnoor Chaudhry\\nInstructor\\n                        \\n                        \\nmahnoor.chaudhary@nu.edu.pk\\n\\n\\n\\n\\n\\n\\n\\n\\n\\n\\n\\nMs. Rida Ahmed\\nInstructor\\n                          On Leave \\n                        \\nrida.ahmed@nu.edu.pk\\n\\n\\n\\n\\n\\n\\n\\n\\n\\n\\n\\nMs. Aqsa Naz\\nLecturer (English)\\n                        \\n                        \\naqsa.naz@nu.edu.pk\\n\\n\\n\\n\\n\\n\\n\\n\\n\\n\\n\\nMr. Hafiz Umair Gulzar\\nLecturer (Islamiat)\\n                        \\n                        \\numair.gulzar@nu.edu.pk\\n\\n\\n\\n\\n\\n\\n\\n\\n\\n\\n\\nMs. Nokhaiz Zahra\\nLecturer (English)\\n                        \\n                        \\nnokhaiz.zahra@nu.edu.pk\\n\\n\\n\\n\\n\\n\\n\\n\\n\\n\\n\\nMs. Rubab Arshad\\nLecturer (English)\\n                        \\n                        \\nrubab.arshad@nu.edu.pk\\n\\n\\n\\n\\n\\n\\n\\n\\n\\n\\n\\n\\n\\n\\n\\n\\n\\n\\n\\n\\n\\n\\n\\n\\n\\n\\n\\n\\n\\n\\n\\n\\nIMPORTANT LINKS\\nCampus Home\\nCampus About\\nAdmissions\\nLibrary\\nSupport and Services\\nSlate\\nFlex\\n\\n\\nDEPARTMENTS\\nFAST School of Management\\nFAST School of Computing\\nDepartment of Electrical Engineering\\nDepartment of Civil Engineering\\nDepartment of Sciences and Humanities\\n\\n\\n© 2020 Copyright : lhr.nu.edu.pk\\n\\n\\n\\n\\n\\n\\n\\n\\n\\n\\n\\n'"
      ]
     },
     "execution_count": 11,
     "metadata": {},
     "output_type": "execute_result"
    }
   ],
   "source": [
    "def html_cleaner(url):\n",
    "    \"\"\"Retrieve the text content from a URL, removing HTML markup.\n",
    "\n",
    "    Args:\n",
    "        url (str): The URL of the web page.\n",
    "\n",
    "    Returns:\n",
    "        str: The text content of the web page with HTML markup removed.\n",
    "        None: If an error occurs during the process.\n",
    "    \"\"\"\n",
    "    try:\n",
    "        html = request.urlopen(url).read().decode('utf8')\n",
    "        text = BeautifulSoup(html, 'html.parser').get_text()\n",
    "        return text\n",
    "\n",
    "    except Exception as e:\n",
    "        print(f\"Error: {e}\")\n",
    "        return None\n",
    "\n",
    "\n",
    "# url = \"https://www.google.com\"\n",
    "url = \"https://lhr.nu.edu.pk/faculty/\"\n",
    "text = html_cleaner(url)\n",
    "text"
   ]
  },
  {
   "cell_type": "markdown",
   "metadata": {},
   "source": [
    "# Question 4"
   ]
  },
  {
   "cell_type": "code",
   "execution_count": 12,
   "metadata": {},
   "outputs": [
    {
     "name": "stdout",
     "output_type": "stream",
     "text": [
      "Tokens:['Campus', 'Faculty', 'Tel', 'Follow', 'us', 'Email', 'Faisal', 'Town', 'Lahore', 'National', 'University', 'of', 'Computer', 'and', 'Emerging', 'Sciences', 'NU', 'Home', 'About', 'Faculty', 'Campus', 'Life', 'Societies', 'departments', 'FAST', 'School', 'of', 'Management', 'FAST', 'School', 'of', 'Computing', 'Department', 'of', 'Electrical', 'Engineering', 'Department', 'of', 'Civil', 'Engineering', 'Department', 'of', 'Sciences', 'and', 'Humanities', 'Admissions', 'Information', 'Fee', 'Structure', 'Support', 'Slate', 'Flex', 'QEC', 'Support', 'Departments', 'Research', 'Groups', 'JCR', 'Alumni', 'Achievement', 'Award', 'Alumni', 'Survey', 'Alumni', 'Card', 'news', 'events', 'Faculty', 'Campus', 'Faculty', 'FAST', 'School', 'of', 'Computing', 'Department', 'of', 'Electrical', 'Engineering', 'Department', 'of', 'Civil', 'Engineering', 'FAST', 'School', 'of', 'Management', 'Department', 'of', 'Science', 'Humanities', 'FAST', 'School', 'of', 'Computing', 'Faculty', 'Kashif', 'Zafar', 'Professor', 'HOD', 'HEC', 'Approved', 'PhD', 'Supervisor', 'Aamir', 'Wali', 'Professor', 'HEC', 'Approved', 'PhD', 'Supervisor', 'Asif', 'Mahmood', 'Gillani', 'Professor', 'HEC', 'Approved', 'PhD', 'Supervisor', 'Hammad', 'Naveed', 'Professor', 'HEC', 'Approved', 'PhD', 'Supervisor', 'Zareen', 'Alamgir', 'Professor', 'HEC', 'Approved', 'PhD', 'Supervisor', 'Arshad', 'Ali', 'Associate', 'Professor', 'HEC', 'Approved', 'PhD', 'Supervisor', 'Asma', 'Naseer', 'Associate', 'Professor', 'HEC', 'Approved', 'PhD', 'Supervisor', 'Irfan', 'Younas', 'Associate', 'Professor', 'HEC', 'Approved', 'PhD', 'Supervisor', 'On', 'Leave', 'Rana', 'Asif', 'Rehman', 'Associate', 'Professor', 'HEC', 'Approved', 'PhD', 'Supervisor', 'Saira', 'Karim', 'Associate', 'Professor', 'HEC', 'Approved', 'PhD', 'Supervisor', 'Zeeshan', 'Ali', 'Khan', 'Associate', 'Professor', 'HEC', 'Approved', 'PhD', 'Supervisor', 'Aatira', 'Anum', 'Assistant', 'Professor', 'Ali', 'Afzal', 'Malik', 'Assistant', 'Professor', 'HEC', 'Approved', 'PhD', 'Supervisor', 'Ammar', 'Haider', 'Assistant', 'Professor', 'Asma', 'Ahmad', 'Assistant', 'Professor', 'Faisal', 'Aslam', 'Assistant', 'Professor', 'Farooq', 'Ahmed', 'Assistant', 'Professor', 'Hajra', 'Waheed', 'Assistant', 'Professor', 'Haroon', 'Mahmood', 'Assistant', 'Professor', 'HEC', 'Approved', 'PhD', 'Supervisor', 'Iqra', 'Safder', 'Assistant', 'Professor', 'On', 'Leave', 'Maryam', 'Bashir', 'Assistant', 'Professor', 'HEC', 'Approved', 'PhD', 'Supervisor', 'Mirza', 'Mubasher', 'Baig', 'Assistant', 'Professor', 'HEC', 'Approved', 'PhD', 'Supervisor', 'Muhammad', 'Ahmad', 'Raza', 'Assistant', 'Professor', 'Syed', 'Mohammad', 'Irteza', 'Assistant', 'Professor', 'HEC', 'Approved', 'PhD', 'Supervisor', 'Tahir', 'Ejaz', 'Assistant', 'Professor', 'Zeeshan', 'Ali', 'Rana', 'Assistant', 'Professor', 'HEC', 'Approved', 'PhD', 'Supervisor', 'Aamir', 'Raheem', 'Assistant', 'Professor', 'Abeeda', 'Akram', 'Assistant', 'Professor', 'Ishaq', 'Raza', 'Assistant', 'Professor', 'Lehmia', 'Kiran', 'Assistant', 'Professor', 'Noshaba', 'Nasir', 'Assistant', 'Professor', 'On', 'Leave', 'Omer', 'Ali', 'Assistant', 'Professor', 'On', 'Leave', 'Samin', 'Iftikhar', 'Assistant', 'Professor', 'Sobia', 'Tariq', 'Javed', 'Assistant', 'Professor', 'Tahreem', 'Yasir', 'Assistant', 'Professor', 'On', 'Leave', 'Waqar', 'Baig', 'Assistant', 'Professor', 'Waqas', 'Manzoor', 'Assistant', 'Professor', 'Aleena', 'Ahmad', 'Lecturer', 'Anosha', 'Khan', 'Lecturer', 'Arooj', 'Khalil', 'Lecturer', 'Asbah', 'Khalid', 'Lecturer', 'Danyal', 'Farhat', 'Lecturer', 'Fraz', 'Yousaf', 'Lecturer', 'Hafiz', 'Muhammad', 'Usama', 'Hassan', 'Alvi', 'Lecturer', 'Hafsa', 'Tariq', 'Javed', 'Lecturer', 'On', 'Leave', 'Hamad', 'Ul', 'Qudous', 'Lecturer', 'Hina', 'Iqbal', 'Lecturer', 'Hira', 'Butt', 'Lecturer', 'Hira', 'Ilyas', 'Lecturer', 'On', 'Leave', 'Saif', 'Ul', 'Islam', 'Lecturer', 'Maham', 'Naeem', 'Lecturer', 'Mamoona', 'Majid', 'Lecturer', 'Mehroze', 'Khan', 'Lecturer', 'Momna', 'Zaneb', 'Lecturer', 'Mubashar', 'Hussain', 'Lecturer', 'Muhammad', 'Naveed', 'Lecturer', 'Muhammad', 'Saifullah', 'Tanvir', 'Lecturer', 'Muhammad', 'Zeeshan', 'Nazar', 'Lecturer', 'Namra', 'Absar', 'Lecturer', 'Lecturer', 'Rubab', 'Anam', 'Janjua', 'Lecturer', 'Sana', 'Fatima', 'Lecturer', 'Syed', 'Uzair', 'Hussain', 'Naqvi', 'Lecturer', 'Syeda', 'Tayyaba', 'Bukhari', 'Lecturer', 'Tazeem', 'Haider', 'Lecturer', 'Umm', 'E', 'Ammarah', 'Lecturer', 'Junaid', 'Hussain', 'Muzammal', 'Instructor', 'Muhammad', 'Usman', 'Anwer', 'Instructor', 'Seemab', 'Ayub', 'Instructor', 'Sohaib', 'Ahmad', 'Instructor', 'Sukhan', 'Amir', 'Instructor', 'Syeda', 'Zehra', 'Batool', 'Instructor', 'Zoha', 'Waheed', 'Instructor', 'Mamoona', 'Akbar', 'Khan', 'Junior', 'Lecturer', 'Nauman', 'Moazzam', 'Hayat', 'Adj', 'Faculty', 'Salman', 'Shoaib', 'Junior', 'Lecturer', 'Samman', 'Ashraf', 'Junior', 'Lecturer', 'Department', 'of', 'Electrical', 'Engineering', 'Faculty', 'Saima', 'Zafar', 'Professor', 'HOD', 'HEC', 'Approved', 'PhD', 'Supervisor', 'Sajid', 'Professor', 'HEC', 'Approved', 'PhD', 'Supervisor', 'Syed', 'Aun', 'Abbas', 'Professor', 'Omer', 'Saleem', 'Associate', 'Professor', 'HEC', 'Approved', 'PhD', 'Supervisor', 'Jabran', 'Khan', 'Assistant', 'Professor', 'On', 'Leave', 'Kashif', 'Saeed', 'Assistant', 'Professor', 'Abdul', 'Majid', 'Assistant', 'Professor', 'Beenish', 'Fatima', 'Assistant', 'Professor', 'Bushra', 'Rashid', 'Assistant', 'Professor', 'Haris', 'Mujtaba', 'Assistant', 'Professor', 'Kamran', 'Jamal', 'Assistant', 'Professor', 'Maimoona', 'Akram', 'Assistant', 'Professor', 'Mohsin', 'Yousaf', 'Assistant', 'Professor', 'Shazia', 'Haque', 'Assistant', 'Professor', 'Tamania', 'Javed', 'Assistant', 'Professor', 'Akbare', 'Yaqub', 'Lecturer', 'Aroosa', 'Umair', 'Lecturer', 'Hamza', 'Yousaf', 'Lecturer', 'Samia', 'Mahmood', 'Lecturer', 'Sara', 'Kiran', 'Lecturer', 'Syed', 'Muhammad', 'Ismail', 'Lecturer', 'Umer', 'Altaf', 'Lecturer', 'On', 'Leave', 'Eisha', 'Khan', 'Lab', 'Engineer', 'Department', 'of', 'Civil', 'Engineering', 'Faculty', 'Shahid', 'Ali', 'Professor', 'HOD', 'HEC', 'Approved', 'PhD', 'Supervisor', 'Syed', 'Ali', 'Rizwan', 'Bukhari', 'Professor', 'HEC', 'Approved', 'PhD', 'Supervisor', 'Javaid', 'Ahmad', 'Associate', 'Professor', 'HEC', 'Approved', 'PhD', 'Supervisor', 'On', 'Leave', 'Tauqir', 'Ahmed', 'Associate', 'Professor', 'HEC', 'Approved', 'PhD', 'Supervisor', 'Waseem', 'Mirza', 'Associate', 'Professor', 'On', 'Leave', 'Muhammad', 'Abdullah', 'Assistant', 'Professor', 'HEC', 'Approved', 'PhD', 'Supervisor', 'On', 'Leave', 'Muhammad', 'Umar', 'Assistant', 'Professor', 'HEC', 'Approved', 'PhD', 'Supervisor', 'Ali', 'Raza', 'Khalid', 'Assistant', 'Professor', 'Sarah', 'Asif', 'Assistant', 'Professor', 'Umar', 'Khan', 'Niazi', 'Assistant', 'Professor', 'Anns', 'Tahir', 'Lecturer', 'Asim', 'Iqbal', 'Lecturer', 'Fahad', 'Haseeb', 'Lecturer', 'Mahnoor', 'Lecturer', 'Mubashir', 'Islam', 'Lecturer', 'Shoaib', 'Ameer', 'Lecturer', 'Hamza', 'Ali', 'Lab', 'Engineer', 'Maham', 'Akram', 'Lab', 'Engineer', 'Malieka', 'Batool', 'Lab', 'Engineer', 'Syed', 'M', 'Muneeb', 'Lab', 'Engineer', 'FAST', 'School', 'of', 'Management', 'Faculty', 'Hamid', 'Hassan', 'Professor', 'HOD', 'HEC', 'Approved', 'PhD', 'Supervisor', 'Akbar', 'Azam', 'Associate', 'Professor', 'HEC', 'Approved', 'PhD', 'Supervisor', 'Ammar', 'Javed', 'Assistant', 'Professor', 'Amna', 'Farrukh', 'Assistant', 'Professor', 'Brig', 'Mujahid', 'Hussain', 'Adjunct', 'Assistant', 'Professor', 'HEC', 'Approved', 'PhD', 'Supervisor', 'Fatima', 'Omer', 'Assistant', 'Professor', 'Komal', 'Kamran', 'Assistant', 'Professor', 'Mian', 'Muhammad', 'Atif', 'Assistant', 'Professor', 'HEC', 'Approved', 'PhD', 'Supervisor', 'Umer', 'Iqbal', 'Assistant', 'Professor', 'HEC', 'Approved', 'PhD', 'Supervisor', 'Zia', 'Khan', 'Assistant', 'Professor', 'HEC', 'Approved', 'PhD', 'Supervisor', 'Aamer', 'Allauddin', 'Assistant', 'Professor', 'Shakeel', 'Ahmad', 'Assistant', 'Professor', 'Amina', 'Tabassum', 'Lecturer', 'Aroosa', 'Safdar', 'Lecturer', 'Ayesha', 'Arshad', 'Lecturer', 'Beenish', 'Arshad', 'Lecturer', 'Fatima', 'Habib', 'Lecturer', 'Irma', 'Tariq', 'Lecturer', 'Khadija', 'Aslam', 'Lecturer', 'Noor', 'Zahid', 'Lecturer', 'Salmaan', 'Khalil', 'Rahman', 'Adjunct', 'Lecturer', 'Sundas', 'Munir', 'Lecturer', 'Ghulam', 'Fatima', 'Instructor', 'Iman', 'Ilyas', 'Instructor', 'Department', 'of', 'Science', 'Humanities', 'Faculty', 'Mubashir', 'Qayyum', 'Professor', 'HOD', 'HEC', 'Approved', 'PhD', 'Supervisor', 'Summaira', 'Sarfraz', 'Professor', 'Dean', 'Faculty', 'of', 'Sciences', 'Humanities', 'HEC', 'Approved', 'PhD', 'Supervisor', 'Akhlaq', 'Ahmad', 'Bhatti', 'Professor', 'HEC', 'Approved', 'PhD', 'Supervisor', 'Mazhar', 'Hussain', 'Professor', 'HEC', 'Approved', 'PhD', 'Supervisor', 'Saman', 'Shahid', 'Professor', 'HEC', 'Approved', 'PhD', 'Supervisor', 'Farasat', 'Shamir', 'Associate', 'Professor', 'HEC', 'Approved', 'PhD', 'Supervisor', 'On', 'Leave', 'Saeeda', 'Zia', 'Associate', 'Professor', 'HEC', 'Approved', 'PhD', 'Supervisor', 'Hira', 'Iqbal', 'Assistant', 'Professor', 'HEC', 'Approved', 'PhD', 'Supervisor', 'Muhammad', 'Tahir', 'Rashid', 'Assistant', 'Professor', 'Tayyaba', 'Naz', 'Assistant', 'Professor', 'HEC', 'Approved', 'PhD', 'Supervisor', 'Waleed', 'Shehzad', 'Assistant', 'Professor', 'HEC', 'Approved', 'PhD', 'Supervisor', 'On', 'Leave', 'Zahida', 'Mansoor', 'Assistant', 'Professor', 'HEC', 'Approved', 'PhD', 'Supervisor', 'Hajira', 'Ikram', 'Butt', 'Assistant', 'Professor', 'Hina', 'Firdous', 'Assistant', 'Professor', 'Raheela', 'Tariq', 'Assistant', 'Professor', 'Zulfiqar', 'Ali', 'Assistant', 'Professor', 'Abdul', 'Sattar', 'Lecturer', 'Aisha', 'Bano', 'Lecturer', 'On', 'Leave', 'Ayesha', 'Saeed', 'Lecturer', 'Hafiz', 'Hamza', 'Janjua', 'Lecturer', 'Iqra', 'Rafiq', 'Lecturer', 'On', 'Leave', 'Kanwal', 'Saleem', 'Lecturer', 'Muhammad', 'Yaseen', 'Lecturer', 'Namra', 'Fazal', 'Lecturer', 'Lecturer', 'Sarah', 'Ahmad', 'Lecturer', 'Tasaduque', 'Hussain', 'Shah', 'Lecturer', 'Mahnoor', 'Chaudhry', 'Instructor', 'Rida', 'Ahmed', 'Instructor', 'On', 'Leave', 'Aqsa', 'Naz', 'Lecturer', 'English', 'Hafiz', 'Umair', 'Gulzar', 'Lecturer', 'Islamiat', 'Nokhaiz', 'Zahra', 'Lecturer', 'English', 'Rubab', 'Arshad', 'Lecturer', 'English', 'IMPORTANT', 'LINKS', 'Campus', 'Home', 'Campus', 'About', 'Admissions', 'Library', 'Support', 'and', 'Services', 'Slate', 'Flex', 'DEPARTMENTS', 'FAST', 'School', 'of', 'Management', 'FAST', 'School', 'of', 'Computing', 'Department', 'of', 'Electrical', 'Engineering', 'Department', 'of', 'Civil', 'Engineering', 'Department', 'of', 'Sciences', 'and', 'Humanities', '2020', 'Copyright']\n",
      "Phone Numbers:['(042) 111 128 128']\n",
      "Emails:['admissions.lhr@nu.edu.pk', 'kashif.zafar@nu.edu.pk', 'aamir.wali@nu.edu.pk', 'asif.gilani@nu.edu.pk', 'hammad.naveed@nu.edu.pk', 'zareen.alamgir@nu.edu.pk', 'arshad.ali1@nu.edu.pk', 'asma.naseer@nu.edu.pk', 'irfan.younas@nu.edu.pk', 'r.asif@nu.edu.pk', 'saira.karim@nu.edu.pk', 'zeeshanali.khan@nu.edu.pk', 'aatira.anum@nu.edu.pk', 'ali.afzal@nu.edu.pk', 'ammar.haider@nu.edu.pk', 'asma.ahmad@nu.edu.pk', 'faisal.aslam@nu.edu.pk', 'farooq.ahmad@nu.edu.pk', 'hajra.waheed@nu.edu.pk', 'haroon.mahmood@nu.edu.pk', 'iqra.safder@nu.edu.pk', 'maryam.bashir@nu.edu.pk', 'mubasher.baig@nu.edu.pk', 'muhammad.ahmadraza@nu.edu.pk', 'm.Irteza@nu.edu.pk', 'tahir.ejaz@nu.edu.pk', 'zeeshan.rana@nu.edu.pk', 'aamir.raheem@nu.edu.pk', 'abeeda.akram@nu.edu.pk', 'ishaq.raza@nu.edu.pk', 'lehmia.kiran@nu.edu.pk', 'noshaba.nasir@nu.edu.pk', 'ali.omer@nu.edu.pk', 'samin.iftikhar@nu.edu.pk', 'sobia.tariq@nu.edu.pk', 'tahreem.yasir@nu.edu.pk', 'waqar.baig@nu.edu.pk', 'waqas.manzoor@nu.edu.pk', 'aleena.ahmad@nu.edu.pk', 'anosha.khan@nu.edu.pk', 'arooj.khalil@nu.edu.pk', 'asbah.khalid@lhr.nu.edu.pk', 'danyal.farhat@nu.edu.pk', 'fraz.yousaf@nu.edu.pk', 'usama.hassan@nu.edu.pk', 'hafsa.tariq@nu.edu.pk', 'hamad.ulqudous@nu.edu.pk', 'hina.iqbal@nu.edu.pk', 'hira.butt@nu.edu.pk', 'hira.ilyas@nu.edu.pk', 'muhammad.saif@nu.edu.pk', 'maham.naeem@nu.edu.pk', 'mamoona.majid@nu.edu.pk', 'mehroze.khan@nu.edu.pk', 'momna.zaneb@nu.edu.pk', 'mubashar.hussain@nu.edu.pk', 'muhammad.naveed@nu.edu.pk', 'saifullah.tanvir@nu.edu.pk', 'zeeshan.nazar@nu.edu.pk', 'namra.absar@nu.edu.pk', 'razi.uddin@nu.edu.pk', 'rubab.anam@nu.edu.pk', 'sana.fatima@nu.edu.pk', 'uzair.naqvi@nu.edu.pk', 'tayyaba.bukhari@nu.edu.pk', 'tazeem.haider@nu.edu.pk', 'umme.ammarah@nu.edu.pk', 'junaid.hussain@nu.edu.pk', 'usman.anwer@lhr.nu.edu.pk', 'seemab.ayub@nu.edu.pk', 'sohaib.ahmad@nu.edu.pk', 'sukhan.amir@nu.edu.pk', 'zehra.batool@nu.edu.pk', 'zoha.waheed@nu.edu.pk', 'mamoona.akbar@nu.edu.pk', 'nauman.moazzam@nu.edu.pk', 'salman.shoaib@nu.edu.pk', 'samman.ashraf@nu.edu.pk', 'saima.zafar@nu.edu.pk', 'sm.sajid@nu.edu.pk', 'aun.abbas@nu.edu.pk', 'omer.saleem@nu.edu.pk', 'jabran.khan@nu.edu.pk', 'kashif.saeed@nu.edu.pk', 'abdul.majid@nu.edu.pk', 'beenish.fatima@nu.edu.pk', 'bushra.rashid@nu.edu.pk', 'haris.kazmi@nu.edu.pk', 'kamran.jamal@nu.edu.pk', 'maimoona.akram@nu.edu.pk', 'mohsin.yousuf@nu.edu.pk', 'shazia.haque@nu.edu.pk', 'tamania.javaid@nu.edu.pk', 'akbari.yaqoob@nu.edu.pk', 'aroosa.umair@nu.edu.pk', 'hamza.yousuf@nu.edu.pk', 'samia.mahmood@nu.edu.pk', 'sara.kiran@nu.edu.pk', 'muhammad.ismail@nu.edu.pk', 'umer.altaf@nu.edu.pk', 'eisha.khan@nu.edu.pk', 'shahid.ali@nu.edu.pk', 'syed.ali@nu.edu.pk', 'Javaid.ahmad@nu.edu.pk', 'tauqir.ahmed@nu.edu.pk', 'waseem.mirza@nu.edu.pk', 'abdullah.rana@nu.edu.pk', 'm.umar@nu.edu.pk', 'aliraza.khalid@nu.edu.pk', 'sarah.asif@nu.edu.pk', 'umar.niazi@nu.edu.pk', 'anns.tahir@nu.edu.pk', 'asim.iqbal@nu.edu.pk', 'fahad.haseeb@nu.edu.pk', 'mahnoor.akram@nu.edu.pk', 'mubashir.islam@nu.edu.pk', 'shoaib.ameer@nu.edu.pk', 'hamza.ali@nu.edu.pk', 'maham.akram@nu.edu.pk', 'malieka.batool@nu.edu.pk', 'm.muneeb@nu.edu.pk', 'hamid.hassan@nu.edu.pk', 'akbar.azam@nu.edu.pk', 'ammar.javed@nu.edu.pk', 'amna.farrukh@nu.edu.pk', 'mujahid.hussain@nu.edu.pk', 'fatima.omer@nu.edu.pk', 'komal.kamran@nu.edu.pk', 'umer.iqbal@nu.edu.pk', 'zia.khan@nu.edu.pk', 'allauddin@gmail.com', 'shakeel.ahmad@nu.edu.pk', 'amina.tabassum@nu.edu.pk', 'aroosa.safdar@nu.edu.pk', 'ayesha.arshad@nu.edu.pk', 'beenish.arshad@nu.edu.pk', 'fatima.habib@nu.edu.pk', 'irma.tariq@nu.edu.pk', 'khadija.aslam@nu.edu.pk', 'noor.zahid@nu.edu.pk', 'salmaan.rahman@nu.edu.pk', 'sundas.munir@nu.edu.pk', 'ghulam.fatima@nu.edu.pk', 'iman.ilyas@nu.edu.pk', 'mubashir.qayyum@nu.edu.pk', 'sumaira.sarfraz@nu.edu.pk', 'akhlaq.ahmad@nu.edu.pk', 'mazhar.hussain@nu.edu.pk', 'saman.shahid@nu.edu.pk', 'farasat.shamir@nu.edu.pk', 'saeeda.zia@nu.edu.pk', 'hira.iqbal@nu.edu.pk', 'tahir.rashid@nu.edu.pk', 'tayyaba.naz@nu.edu.pk', 'waleed.shehzad@nu.edu.pk', 'zahida.mansoor@nu.edu.pk', 'hajra.ikram@nu.edu.pk', 'hina.firdous@nu.edu.pk', 'raheela.tariq@nu.edu.pk', 'ali.zulfiqar@nu.edu.pk', 'abdul.sattar@nu.edu.pk', 'aisha.bano@nu.edu.pk', 'ayesha.saeed@nu.edu.pk', 'hamza.janjua@nu.edu.pk', 'iqra.rafiq@nu.edu.pk', 'kanwal.saleem@nu.edu.pk', 'm.yaseen@nu.edu.pk', 'namra.fazal@nu.edu.pk', 'razm.zafar@nu.edu.pk', 'Sarah.ahmad@nu.edu.pk', 'tasduque.hussain@nu.edu.pk', 'mahnoor.chaudhary@nu.edu.pk', 'rida.ahmed@nu.edu.pk', 'aqsa.naz@nu.edu.pk', 'umair.gulzar@nu.edu.pk', 'nokhaiz.zahra@nu.edu.pk', 'rubab.arshad@nu.edu.pk']\n"
     ]
    }
   ],
   "source": [
    "def tokenize(text):\n",
    "    \"\"\"\n",
    "    Tokenize the input text, extract phone numbers, and email addresses.\n",
    "\n",
    "    Args:\n",
    "        text (str): The input text to be tokenized.\n",
    "\n",
    "    Returns:\n",
    "        tuple: A tuple containing a list of tokens, a list of phone numbers, and a list of email addresses.\n",
    "    \"\"\"\n",
    "    try:\n",
    "        phone_pattern = re.compile(r'(\\(?\\d{1,4}\\)?[-.\\s]?\\d{3,4}[-.\\s]?\\d{3,4}[-.\\s]?\\d{1,9})')\n",
    "        email_pattern = r'\\b[A-Za-z0-9._%+-]+@[A-Za-z0-9.-]+\\.[A-Z|a-z]{2,}\\b'\n",
    "\n",
    "        phones = re.findall(phone_pattern, text)\n",
    "        emails = re.findall(email_pattern, text)\n",
    "\n",
    "        text = re.sub(phone_pattern, '', text)\n",
    "        text = re.sub(email_pattern, '', text)\n",
    "\n",
    "        tokens = nltk.word_tokenize(text)\n",
    "        tokens = [token for token in tokens if token.isalnum()]\n",
    "\n",
    "        return tokens, phones, emails\n",
    "\n",
    "    except Exception as e:\n",
    "        print(f\"Error processing the text: {e}\")\n",
    "        return None\n",
    "\n",
    "\n",
    "tokens, phones, emails = tokenize(text)\n",
    "print(f\"Tokens:{tokens}\")\n",
    "print(f\"Phone Numbers:{phones}\")\n",
    "print(f\"Emails:{emails}\")"
   ]
  },
  {
   "cell_type": "markdown",
   "metadata": {},
   "source": [
    "# Question 5"
   ]
  },
  {
   "cell_type": "code",
   "execution_count": 13,
   "metadata": {},
   "outputs": [
    {
     "name": "stdout",
     "output_type": "stream",
     "text": [
      "Tokens (Porter): ['campu', 'faculti', 'tel', 'follow', 'us', 'email', 'faisal', 'town', 'lahor', 'nation', 'univers', 'of', 'comput', 'and', 'emerg', 'scienc', 'nu', 'home', 'about', 'faculti', 'campu', 'life', 'societi', 'depart', 'fast', 'school', 'of', 'manag', 'fast', 'school', 'of', 'comput', 'depart', 'of', 'electr', 'engin', 'depart', 'of', 'civil', 'engin', 'depart', 'of', 'scienc', 'and', 'human', 'admiss', 'inform', 'fee', 'structur', 'support', 'slate', 'flex', 'qec', 'support', 'depart', 'research', 'group', 'jcr', 'alumni', 'achiev', 'award', 'alumni', 'survey', 'alumni', 'card', 'news', 'event', 'faculti', 'campu', 'faculti', 'fast', 'school', 'of', 'comput', 'depart', 'of', 'electr', 'engin', 'depart', 'of', 'civil', 'engin', 'fast', 'school', 'of', 'manag', 'depart', 'of', 'scienc', 'human', 'fast', 'school', 'of', 'comput', 'faculti', 'kashif', 'zafar', 'professor', 'hod', 'hec', 'approv', 'phd', 'supervisor', 'aamir', 'wali', 'professor', 'hec', 'approv', 'phd', 'supervisor', 'asif', 'mahmood', 'gillani', 'professor', 'hec', 'approv', 'phd', 'supervisor', 'hammad', 'nave', 'professor', 'hec', 'approv', 'phd', 'supervisor', 'zareen', 'alamgir', 'professor', 'hec', 'approv', 'phd', 'supervisor', 'arshad', 'ali', 'associ', 'professor', 'hec', 'approv', 'phd', 'supervisor', 'asma', 'naseer', 'associ', 'professor', 'hec', 'approv', 'phd', 'supervisor', 'irfan', 'youna', 'associ', 'professor', 'hec', 'approv', 'phd', 'supervisor', 'on', 'leav', 'rana', 'asif', 'rehman', 'associ', 'professor', 'hec', 'approv', 'phd', 'supervisor', 'saira', 'karim', 'associ', 'professor', 'hec', 'approv', 'phd', 'supervisor', 'zeeshan', 'ali', 'khan', 'associ', 'professor', 'hec', 'approv', 'phd', 'supervisor', 'aatira', 'anum', 'assist', 'professor', 'ali', 'afzal', 'malik', 'assist', 'professor', 'hec', 'approv', 'phd', 'supervisor', 'ammar', 'haider', 'assist', 'professor', 'asma', 'ahmad', 'assist', 'professor', 'faisal', 'aslam', 'assist', 'professor', 'farooq', 'ahm', 'assist', 'professor', 'hajra', 'wahe', 'assist', 'professor', 'haroon', 'mahmood', 'assist', 'professor', 'hec', 'approv', 'phd', 'supervisor', 'iqra', 'safder', 'assist', 'professor', 'on', 'leav', 'maryam', 'bashir', 'assist', 'professor', 'hec', 'approv', 'phd', 'supervisor', 'mirza', 'mubash', 'baig', 'assist', 'professor', 'hec', 'approv', 'phd', 'supervisor', 'muhammad', 'ahmad', 'raza', 'assist', 'professor', 'sy', 'mohammad', 'irteza', 'assist', 'professor', 'hec', 'approv', 'phd', 'supervisor', 'tahir', 'ejaz', 'assist', 'professor', 'zeeshan', 'ali', 'rana', 'assist', 'professor', 'hec', 'approv', 'phd', 'supervisor', 'aamir', 'raheem', 'assist', 'professor', 'abeeda', 'akram', 'assist', 'professor', 'ishaq', 'raza', 'assist', 'professor', 'lehmia', 'kiran', 'assist', 'professor', 'noshaba', 'nasir', 'assist', 'professor', 'on', 'leav', 'omer', 'ali', 'assist', 'professor', 'on', 'leav', 'samin', 'iftikhar', 'assist', 'professor', 'sobia', 'tariq', 'jave', 'assist', 'professor', 'tahreem', 'yasir', 'assist', 'professor', 'on', 'leav', 'waqar', 'baig', 'assist', 'professor', 'waqa', 'manzoor', 'assist', 'professor', 'aleena', 'ahmad', 'lectur', 'anosha', 'khan', 'lectur', 'arooj', 'khalil', 'lectur', 'asbah', 'khalid', 'lectur', 'danyal', 'farhat', 'lectur', 'fraz', 'yousaf', 'lectur', 'hafiz', 'muhammad', 'usama', 'hassan', 'alvi', 'lectur', 'hafsa', 'tariq', 'jave', 'lectur', 'on', 'leav', 'hamad', 'ul', 'qudou', 'lectur', 'hina', 'iqbal', 'lectur', 'hira', 'butt', 'lectur', 'hira', 'ilya', 'lectur', 'on', 'leav', 'saif', 'ul', 'islam', 'lectur', 'maham', 'naeem', 'lectur', 'mamoona', 'majid', 'lectur', 'mehroz', 'khan', 'lectur', 'momna', 'zaneb', 'lectur', 'mubashar', 'hussain', 'lectur', 'muhammad', 'nave', 'lectur', 'muhammad', 'saifullah', 'tanvir', 'lectur', 'muhammad', 'zeeshan', 'nazar', 'lectur', 'namra', 'absar', 'lectur', 'lectur', 'rubab', 'anam', 'janjua', 'lectur', 'sana', 'fatima', 'lectur', 'sy', 'uzair', 'hussain', 'naqvi', 'lectur', 'syeda', 'tayyaba', 'bukhari', 'lectur', 'tazeem', 'haider', 'lectur', 'umm', 'e', 'ammarah', 'lectur', 'junaid', 'hussain', 'muzamm', 'instructor', 'muhammad', 'usman', 'anwer', 'instructor', 'seemab', 'ayub', 'instructor', 'sohaib', 'ahmad', 'instructor', 'sukhan', 'amir', 'instructor', 'syeda', 'zehra', 'batool', 'instructor', 'zoha', 'wahe', 'instructor', 'mamoona', 'akbar', 'khan', 'junior', 'lectur', 'nauman', 'moazzam', 'hayat', 'adj', 'faculti', 'salman', 'shoaib', 'junior', 'lectur', 'samman', 'ashraf', 'junior', 'lectur', 'depart', 'of', 'electr', 'engin', 'faculti', 'saima', 'zafar', 'professor', 'hod', 'hec', 'approv', 'phd', 'supervisor', 'sajid', 'professor', 'hec', 'approv', 'phd', 'supervisor', 'sy', 'aun', 'abba', 'professor', 'omer', 'saleem', 'associ', 'professor', 'hec', 'approv', 'phd', 'supervisor', 'jabran', 'khan', 'assist', 'professor', 'on', 'leav', 'kashif', 'saeed', 'assist', 'professor', 'abdul', 'majid', 'assist', 'professor', 'beenish', 'fatima', 'assist', 'professor', 'bushra', 'rashid', 'assist', 'professor', 'hari', 'mujtaba', 'assist', 'professor', 'kamran', 'jamal', 'assist', 'professor', 'maimoona', 'akram', 'assist', 'professor', 'mohsin', 'yousaf', 'assist', 'professor', 'shazia', 'haqu', 'assist', 'professor', 'tamania', 'jave', 'assist', 'professor', 'akbar', 'yaqub', 'lectur', 'aroosa', 'umair', 'lectur', 'hamza', 'yousaf', 'lectur', 'samia', 'mahmood', 'lectur', 'sara', 'kiran', 'lectur', 'sy', 'muhammad', 'ismail', 'lectur', 'umer', 'altaf', 'lectur', 'on', 'leav', 'eisha', 'khan', 'lab', 'engin', 'depart', 'of', 'civil', 'engin', 'faculti', 'shahid', 'ali', 'professor', 'hod', 'hec', 'approv', 'phd', 'supervisor', 'sy', 'ali', 'rizwan', 'bukhari', 'professor', 'hec', 'approv', 'phd', 'supervisor', 'javaid', 'ahmad', 'associ', 'professor', 'hec', 'approv', 'phd', 'supervisor', 'on', 'leav', 'tauqir', 'ahm', 'associ', 'professor', 'hec', 'approv', 'phd', 'supervisor', 'waseem', 'mirza', 'associ', 'professor', 'on', 'leav', 'muhammad', 'abdullah', 'assist', 'professor', 'hec', 'approv', 'phd', 'supervisor', 'on', 'leav', 'muhammad', 'umar', 'assist', 'professor', 'hec', 'approv', 'phd', 'supervisor', 'ali', 'raza', 'khalid', 'assist', 'professor', 'sarah', 'asif', 'assist', 'professor', 'umar', 'khan', 'niazi', 'assist', 'professor', 'ann', 'tahir', 'lectur', 'asim', 'iqbal', 'lectur', 'fahad', 'haseeb', 'lectur', 'mahnoor', 'lectur', 'mubashir', 'islam', 'lectur', 'shoaib', 'ameer', 'lectur', 'hamza', 'ali', 'lab', 'engin', 'maham', 'akram', 'lab', 'engin', 'malieka', 'batool', 'lab', 'engin', 'sy', 'm', 'muneeb', 'lab', 'engin', 'fast', 'school', 'of', 'manag', 'faculti', 'hamid', 'hassan', 'professor', 'hod', 'hec', 'approv', 'phd', 'supervisor', 'akbar', 'azam', 'associ', 'professor', 'hec', 'approv', 'phd', 'supervisor', 'ammar', 'jave', 'assist', 'professor', 'amna', 'farrukh', 'assist', 'professor', 'brig', 'mujahid', 'hussain', 'adjunct', 'assist', 'professor', 'hec', 'approv', 'phd', 'supervisor', 'fatima', 'omer', 'assist', 'professor', 'komal', 'kamran', 'assist', 'professor', 'mian', 'muhammad', 'atif', 'assist', 'professor', 'hec', 'approv', 'phd', 'supervisor', 'umer', 'iqbal', 'assist', 'professor', 'hec', 'approv', 'phd', 'supervisor', 'zia', 'khan', 'assist', 'professor', 'hec', 'approv', 'phd', 'supervisor', 'aamer', 'allauddin', 'assist', 'professor', 'shakeel', 'ahmad', 'assist', 'professor', 'amina', 'tabassum', 'lectur', 'aroosa', 'safdar', 'lectur', 'ayesha', 'arshad', 'lectur', 'beenish', 'arshad', 'lectur', 'fatima', 'habib', 'lectur', 'irma', 'tariq', 'lectur', 'khadija', 'aslam', 'lectur', 'noor', 'zahid', 'lectur', 'salmaan', 'khalil', 'rahman', 'adjunct', 'lectur', 'sunda', 'munir', 'lectur', 'ghulam', 'fatima', 'instructor', 'iman', 'ilya', 'instructor', 'depart', 'of', 'scienc', 'human', 'faculti', 'mubashir', 'qayyum', 'professor', 'hod', 'hec', 'approv', 'phd', 'supervisor', 'summaira', 'sarfraz', 'professor', 'dean', 'faculti', 'of', 'scienc', 'human', 'hec', 'approv', 'phd', 'supervisor', 'akhlaq', 'ahmad', 'bhatti', 'professor', 'hec', 'approv', 'phd', 'supervisor', 'mazhar', 'hussain', 'professor', 'hec', 'approv', 'phd', 'supervisor', 'saman', 'shahid', 'professor', 'hec', 'approv', 'phd', 'supervisor', 'farasat', 'shamir', 'associ', 'professor', 'hec', 'approv', 'phd', 'supervisor', 'on', 'leav', 'saeeda', 'zia', 'associ', 'professor', 'hec', 'approv', 'phd', 'supervisor', 'hira', 'iqbal', 'assist', 'professor', 'hec', 'approv', 'phd', 'supervisor', 'muhammad', 'tahir', 'rashid', 'assist', 'professor', 'tayyaba', 'naz', 'assist', 'professor', 'hec', 'approv', 'phd', 'supervisor', 'wale', 'shehzad', 'assist', 'professor', 'hec', 'approv', 'phd', 'supervisor', 'on', 'leav', 'zahida', 'mansoor', 'assist', 'professor', 'hec', 'approv', 'phd', 'supervisor', 'hajira', 'ikram', 'butt', 'assist', 'professor', 'hina', 'firdou', 'assist', 'professor', 'raheela', 'tariq', 'assist', 'professor', 'zulfiqar', 'ali', 'assist', 'professor', 'abdul', 'sattar', 'lectur', 'aisha', 'bano', 'lectur', 'on', 'leav', 'ayesha', 'saeed', 'lectur', 'hafiz', 'hamza', 'janjua', 'lectur', 'iqra', 'rafiq', 'lectur', 'on', 'leav', 'kanwal', 'saleem', 'lectur', 'muhammad', 'yaseen', 'lectur', 'namra', 'fazal', 'lectur', 'lectur', 'sarah', 'ahmad', 'lectur', 'tasaduqu', 'hussain', 'shah', 'lectur', 'mahnoor', 'chaudhri', 'instructor', 'rida', 'ahm', 'instructor', 'on', 'leav', 'aqsa', 'naz', 'lectur', 'english', 'hafiz', 'umair', 'gulzar', 'lectur', 'islamiat', 'nokhaiz', 'zahra', 'lectur', 'english', 'rubab', 'arshad', 'lectur', 'english', 'import', 'link', 'campu', 'home', 'campu', 'about', 'admiss', 'librari', 'support', 'and', 'servic', 'slate', 'flex', 'depart', 'fast', 'school', 'of', 'manag', 'fast', 'school', 'of', 'comput', 'depart', 'of', 'electr', 'engin', 'depart', 'of', 'civil', 'engin', 'depart', 'of', 'scienc', 'and', 'human', '2020', 'copyright']\n",
      "Tokens (Lancaster): ['camp', 'facul', 'tel', 'follow', 'us', 'email', 'fais', 'town', 'lah', 'nat', 'univers', 'of', 'comput', 'and', 'emerg', 'sci', 'nu', 'hom', 'about', 'facul', 'camp', 'lif', 'socy', 'depart', 'fast', 'school', 'of', 'man', 'fast', 'school', 'of', 'comput', 'depart', 'of', 'elect', 'engin', 'depart', 'of', 'civil', 'engin', 'depart', 'of', 'sci', 'and', 'hum', 'admit', 'inform', 'fee', 'structure', 'support', 'slat', 'flex', 'qec', 'support', 'depart', 'research', 'group', 'jcr', 'alumn', 'achiev', 'award', 'alumn', 'survey', 'alumn', 'card', 'new', 'ev', 'facul', 'camp', 'facul', 'fast', 'school', 'of', 'comput', 'depart', 'of', 'elect', 'engin', 'depart', 'of', 'civil', 'engin', 'fast', 'school', 'of', 'man', 'depart', 'of', 'sci', 'hum', 'fast', 'school', 'of', 'comput', 'facul', 'kash', 'zaf', 'profess', 'hod', 'hec', 'approv', 'phd', 'superv', 'aamir', 'wal', 'profess', 'hec', 'approv', 'phd', 'superv', 'as', 'mahmood', 'gillan', 'profess', 'hec', 'approv', 'phd', 'superv', 'hammad', 'navee', 'profess', 'hec', 'approv', 'phd', 'superv', 'zareen', 'alamgir', 'profess', 'hec', 'approv', 'phd', 'superv', 'arshad', 'al', 'assocy', 'profess', 'hec', 'approv', 'phd', 'superv', 'asm', 'nas', 'assocy', 'profess', 'hec', 'approv', 'phd', 'superv', 'irf', 'youna', 'assocy', 'profess', 'hec', 'approv', 'phd', 'superv', 'on', 'leav', 'ran', 'as', 'rehm', 'assocy', 'profess', 'hec', 'approv', 'phd', 'superv', 'sair', 'karim', 'assocy', 'profess', 'hec', 'approv', 'phd', 'superv', 'zeesh', 'al', 'khan', 'assocy', 'profess', 'hec', 'approv', 'phd', 'superv', 'aatir', 'an', 'assist', 'profess', 'al', 'afz', 'malik', 'assist', 'profess', 'hec', 'approv', 'phd', 'superv', 'amm', 'haid', 'assist', 'profess', 'asm', 'ahmad', 'assist', 'profess', 'fais', 'aslam', 'assist', 'profess', 'farooq', 'ahm', 'assist', 'profess', 'hajr', 'wahee', 'assist', 'profess', 'haroon', 'mahmood', 'assist', 'profess', 'hec', 'approv', 'phd', 'superv', 'iqr', 'safd', 'assist', 'profess', 'on', 'leav', 'maryam', 'bashir', 'assist', 'profess', 'hec', 'approv', 'phd', 'superv', 'mirz', 'mubash', 'baig', 'assist', 'profess', 'hec', 'approv', 'phd', 'superv', 'muhammad', 'ahmad', 'raz', 'assist', 'profess', 'syed', 'mohammad', 'irtez', 'assist', 'profess', 'hec', 'approv', 'phd', 'superv', 'tahir', 'ejaz', 'assist', 'profess', 'zeesh', 'al', 'ran', 'assist', 'profess', 'hec', 'approv', 'phd', 'superv', 'aamir', 'raheem', 'assist', 'profess', 'abeed', 'akram', 'assist', 'profess', 'ishaq', 'raz', 'assist', 'profess', 'lehm', 'kir', 'assist', 'profess', 'noshab', 'nasir', 'assist', 'profess', 'on', 'leav', 'om', 'al', 'assist', 'profess', 'on', 'leav', 'samin', 'iftikh', 'assist', 'profess', 'sob', 'tariq', 'jav', 'assist', 'profess', 'tahreem', 'yasir', 'assist', 'profess', 'on', 'leav', 'waq', 'baig', 'assist', 'profess', 'waqa', 'manzo', 'assist', 'profess', 'aleen', 'ahmad', 'lect', 'anosh', 'khan', 'lect', 'arood', 'khalil', 'lect', 'asbah', 'khalid', 'lect', 'dany', 'farh', 'lect', 'fraz', 'yousaf', 'lect', 'haf', 'muhammad', 'usam', 'hass', 'alv', 'lect', 'hafs', 'tariq', 'jav', 'lect', 'on', 'leav', 'hamad', 'ul', 'qud', 'lect', 'hin', 'iqb', 'lect', 'hir', 'but', 'lect', 'hir', 'ilya', 'lect', 'on', 'leav', 'saif', 'ul', 'islam', 'lect', 'maham', 'naeem', 'lect', 'mamoon', 'majid', 'lect', 'mehroz', 'khan', 'lect', 'momn', 'zaneb', 'lect', 'mubash', 'hussain', 'lect', 'muhammad', 'navee', 'lect', 'muhammad', 'saifullah', 'tanvir', 'lect', 'muhammad', 'zeesh', 'naz', 'lect', 'namr', 'abs', 'lect', 'lect', 'rubab', 'anam', 'janju', 'lect', 'san', 'fatim', 'lect', 'syed', 'uzair', 'hussain', 'naqv', 'lect', 'syed', 'tayyab', 'bukhar', 'lect', 'tazeem', 'haid', 'lect', 'um', 'e', 'ammarah', 'lect', 'junaid', 'hussain', 'muzam', 'instruct', 'muhammad', 'usm', 'anw', 'instruct', 'seemab', 'ayub', 'instruct', 'sohaib', 'ahmad', 'instruct', 'sukh', 'amir', 'instruct', 'syed', 'zehr', 'batool', 'instruct', 'zoh', 'wahee', 'instruct', 'mamoon', 'akb', 'khan', 'juny', 'lect', 'naum', 'moazzam', 'hay', 'ads', 'facul', 'salm', 'shoaib', 'juny', 'lect', 'sam', 'ashraf', 'juny', 'lect', 'depart', 'of', 'elect', 'engin', 'facul', 'saim', 'zaf', 'profess', 'hod', 'hec', 'approv', 'phd', 'superv', 'sajid', 'profess', 'hec', 'approv', 'phd', 'superv', 'syed', 'aun', 'abba', 'profess', 'om', 'saleem', 'assocy', 'profess', 'hec', 'approv', 'phd', 'superv', 'jabr', 'khan', 'assist', 'profess', 'on', 'leav', 'kash', 'saee', 'assist', 'profess', 'abd', 'majid', 'assist', 'profess', 'been', 'fatim', 'assist', 'profess', 'bushr', 'rashid', 'assist', 'profess', 'har', 'mujtab', 'assist', 'profess', 'kamr', 'jam', 'assist', 'profess', 'maimoon', 'akram', 'assist', 'profess', 'mohsin', 'yousaf', 'assist', 'profess', 'shaz', 'haqu', 'assist', 'profess', 'taman', 'jav', 'assist', 'profess', 'akb', 'yaqub', 'lect', 'aroos', 'umair', 'lect', 'hamz', 'yousaf', 'lect', 'sam', 'mahmood', 'lect', 'sar', 'kir', 'lect', 'syed', 'muhammad', 'ismail', 'lect', 'um', 'altaf', 'lect', 'on', 'leav', 'eish', 'khan', 'lab', 'engin', 'depart', 'of', 'civil', 'engin', 'facul', 'shahid', 'al', 'profess', 'hod', 'hec', 'approv', 'phd', 'superv', 'syed', 'al', 'rizw', 'bukhar', 'profess', 'hec', 'approv', 'phd', 'superv', 'javaid', 'ahmad', 'assocy', 'profess', 'hec', 'approv', 'phd', 'superv', 'on', 'leav', 'tauqir', 'ahm', 'assocy', 'profess', 'hec', 'approv', 'phd', 'superv', 'waseem', 'mirz', 'assocy', 'profess', 'on', 'leav', 'muhammad', 'abdullah', 'assist', 'profess', 'hec', 'approv', 'phd', 'superv', 'on', 'leav', 'muhammad', 'um', 'assist', 'profess', 'hec', 'approv', 'phd', 'superv', 'al', 'raz', 'khalid', 'assist', 'profess', 'sarah', 'as', 'assist', 'profess', 'um', 'khan', 'niaz', 'assist', 'profess', 'an', 'tahir', 'lect', 'asim', 'iqb', 'lect', 'fahad', 'haseeb', 'lect', 'mahno', 'lect', 'mubashir', 'islam', 'lect', 'shoaib', 'am', 'lect', 'hamz', 'al', 'lab', 'engin', 'maham', 'akram', 'lab', 'engin', 'maliek', 'batool', 'lab', 'engin', 'syed', 'm', 'muneeb', 'lab', 'engin', 'fast', 'school', 'of', 'man', 'facul', 'hamid', 'hass', 'profess', 'hod', 'hec', 'approv', 'phd', 'superv', 'akb', 'azam', 'assocy', 'profess', 'hec', 'approv', 'phd', 'superv', 'amm', 'jav', 'assist', 'profess', 'amn', 'farrukh', 'assist', 'profess', 'brig', 'mujahid', 'hussain', 'adjunct', 'assist', 'profess', 'hec', 'approv', 'phd', 'superv', 'fatim', 'om', 'assist', 'profess', 'kom', 'kamr', 'assist', 'profess', 'mian', 'muhammad', 'at', 'assist', 'profess', 'hec', 'approv', 'phd', 'superv', 'um', 'iqb', 'assist', 'profess', 'hec', 'approv', 'phd', 'superv', 'zia', 'khan', 'assist', 'profess', 'hec', 'approv', 'phd', 'superv', 'aam', 'allauddin', 'assist', 'profess', 'shakeel', 'ahmad', 'assist', 'profess', 'amin', 'tabass', 'lect', 'aroos', 'safd', 'lect', 'ayesh', 'arshad', 'lect', 'been', 'arshad', 'lect', 'fatim', 'habib', 'lect', 'irm', 'tariq', 'lect', 'khadij', 'aslam', 'lect', 'noor', 'zahid', 'lect', 'salma', 'khalil', 'rahm', 'adjunct', 'lect', 'sunda', 'munir', 'lect', 'ghulam', 'fatim', 'instruct', 'im', 'ilya', 'instruct', 'depart', 'of', 'sci', 'hum', 'facul', 'mubashir', 'qayy', 'profess', 'hod', 'hec', 'approv', 'phd', 'superv', 'summair', 'sarfraz', 'profess', 'dean', 'facul', 'of', 'sci', 'hum', 'hec', 'approv', 'phd', 'superv', 'akhlaq', 'ahmad', 'bhatt', 'profess', 'hec', 'approv', 'phd', 'superv', 'mazh', 'hussain', 'profess', 'hec', 'approv', 'phd', 'superv', 'sam', 'shahid', 'profess', 'hec', 'approv', 'phd', 'superv', 'faras', 'shamir', 'assocy', 'profess', 'hec', 'approv', 'phd', 'superv', 'on', 'leav', 'saeed', 'zia', 'assocy', 'profess', 'hec', 'approv', 'phd', 'superv', 'hir', 'iqb', 'assist', 'profess', 'hec', 'approv', 'phd', 'superv', 'muhammad', 'tahir', 'rashid', 'assist', 'profess', 'tayyab', 'naz', 'assist', 'profess', 'hec', 'approv', 'phd', 'superv', 'walee', 'shehzad', 'assist', 'profess', 'hec', 'approv', 'phd', 'superv', 'on', 'leav', 'zahid', 'manso', 'assist', 'profess', 'hec', 'approv', 'phd', 'superv', 'hajir', 'ikram', 'but', 'assist', 'profess', 'hin', 'fird', 'assist', 'profess', 'raheel', 'tariq', 'assist', 'profess', 'zulfiq', 'al', 'assist', 'profess', 'abd', 'satt', 'lect', 'aish', 'bano', 'lect', 'on', 'leav', 'ayesh', 'saee', 'lect', 'haf', 'hamz', 'janju', 'lect', 'iqr', 'rafiq', 'lect', 'on', 'leav', 'kanw', 'saleem', 'lect', 'muhammad', 'yaseen', 'lect', 'namr', 'faz', 'lect', 'lect', 'sarah', 'ahmad', 'lect', 'tasaduqu', 'hussain', 'shah', 'lect', 'mahno', 'chaudhry', 'instruct', 'rid', 'ahm', 'instruct', 'on', 'leav', 'aqs', 'naz', 'lect', 'engl', 'haf', 'umair', 'gulz', 'lect', 'islamy', 'nokha', 'zahr', 'lect', 'engl', 'rubab', 'arshad', 'lect', 'engl', 'import', 'link', 'camp', 'hom', 'camp', 'about', 'admit', 'libr', 'support', 'and', 'serv', 'slat', 'flex', 'depart', 'fast', 'school', 'of', 'man', 'fast', 'school', 'of', 'comput', 'depart', 'of', 'elect', 'engin', 'depart', 'of', 'civil', 'engin', 'depart', 'of', 'sci', 'and', 'hum', '2020', 'copyright']\n"
     ]
    }
   ],
   "source": [
    "def normalize(tokens, choice='porter'):\n",
    "    \"\"\"Normalize a list of tokens using a specified stemming algorithm.\n",
    "\n",
    "    Args:\n",
    "        tokens (list): A list of tokens to be normalized.\n",
    "        choice (str, optional): The choice of stemming algorithm ('porter' or 'lancaster'). Defaults to 'porter'.\n",
    "\n",
    "    Returns:\n",
    "        list: The normalized list of tokens.\n",
    "    \"\"\"\n",
    "    try:\n",
    "        if choice == 'porter':\n",
    "            porter = nltk.PorterStemmer()\n",
    "            tokens = [porter.stem(token) for token in tokens]\n",
    "\n",
    "        elif choice == 'lancaster':\n",
    "            lancaster = nltk.LancasterStemmer()\n",
    "            tokens = [lancaster.stem(token) for token in tokens]\n",
    "\n",
    "        else:\n",
    "            raise ValueError(\"Invalid choice. Use 'porter' or 'lancaster'.\")\n",
    "\n",
    "        return tokens\n",
    "\n",
    "    except Exception as e:\n",
    "        print(f\"Error: {e}\")\n",
    "        return None\n",
    "tokens_porter = normalize(tokens, choice='porter')\n",
    "print(f\"Tokens (Porter): {tokens_porter}\")\n",
    "\n",
    "tokens_lancaster = normalize(tokens, choice='lancaster')\n",
    "print(f\"Tokens (Lancaster): {tokens_lancaster}\")\n",
    "    "
   ]
  },
  {
   "cell_type": "markdown",
   "metadata": {},
   "source": [
    "# Question 6"
   ]
  },
  {
   "cell_type": "code",
   "execution_count": 14,
   "metadata": {},
   "outputs": [
    {
     "name": "stdout",
     "output_type": "stream",
     "text": [
      "1. First word:\n",
      "a) Regular expression: Z[a-z]*a\n",
      "b) Frequency: 3\n",
      "c) First word: zalima\n",
      "\n",
      "2. Second word:\n",
      "a) Regular expression: \\d+k[a-z]*\\d\n",
      "b) Extracted word: 1kacokaco1\n",
      "c) Actual second word: coka\n",
      "\n",
      "3. Third word:\n",
      "a) Regular expression: c[a-z]*\\*[a-z]+a\n",
      "b) Extracted word: co*la\n",
      "c) Actual third word: cola\n",
      "\n",
      "4. Fourth word:\n",
      "a) Regular expression: [Pp][a-z]{2}a\n",
      "b) Frequency: 3\n",
      "c) Fourth word: Pila\n",
      "\n",
      "5. Complete five-word message:\n",
      "zalima coka cola Pila de\n"
     ]
    }
   ],
   "source": [
    "text = \"\"\"Pila Forfeited you engrossed but 1kometimes explained. Another 1kacokaco1 as studied it to evident.\n",
    "Merry sense 9given he be arisepila. Conduct at an replied removal an amongst.\n",
    "Remainingzalima 0determine few her two cordially Zalima admitting old. Sometimes ctra*nger his\n",
    "pisdsdla ourselves her co*la depending you boy. Eat discretion cultivated possession far comparison\n",
    "projection pila considered. And few fat interested discovered inquietude insensible unsatiable increasing\n",
    "zalima eat.\"\"\"\n",
    "\n",
    "# First word\n",
    "first_word_regex = r'Z[a-z]*a'\n",
    "first_word_matches = re.findall(first_word_regex, text, re.IGNORECASE)\n",
    "first_word_frequency = len(first_word_matches)\n",
    "first_word = first_word_matches[0] if first_word_frequency > 0 else None\n",
    "\n",
    "# Second word\n",
    "second_word_regex = r'\\d+k[a-z]*\\d'\n",
    "second_word_match = re.search(second_word_regex, text)\n",
    "second_word_extracted = second_word_match.group() if second_word_match else None\n",
    "second_word_actual = second_word_extracted[3:-3] if second_word_extracted else None\n",
    "\n",
    "# Third word\n",
    "third_word_regex = r'c[a-z]*\\*[a-z]+a'\n",
    "third_word_match = re.search(third_word_regex, text)\n",
    "third_word_extracted = third_word_match.group() if third_word_match else None\n",
    "third_word_actual = third_word_extracted.replace('*', '') if third_word_extracted else None\n",
    "\n",
    "# Fourth word\n",
    "fourth_word_regex = r'[Pp][a-z]{2}a'\n",
    "fourth_word_matches = re.findall(fourth_word_regex, text)\n",
    "fourth_word_frequency = len(fourth_word_matches)\n",
    "fourth_word = fourth_word_matches[0] if fourth_word_frequency > 0 else None\n",
    "\n",
    "print(\"1. First word:\")\n",
    "print(f\"a) Regular expression: {first_word_regex}\")\n",
    "print(f\"b) Frequency: {first_word_frequency}\")\n",
    "print(f\"c) First word: {first_word}\\n\")\n",
    "\n",
    "print(\"2. Second word:\")\n",
    "print(f\"a) Regular expression: {second_word_regex}\")\n",
    "print(f\"b) Extracted word: {second_word_extracted}\")\n",
    "print(f\"c) Actual second word: {second_word_actual}\\n\")\n",
    "\n",
    "print(\"3. Third word:\")\n",
    "print(f\"a) Regular expression: {third_word_regex}\")\n",
    "print(f\"b) Extracted word: {third_word_extracted}\")\n",
    "print(f\"c) Actual third word: {third_word_actual}\\n\")\n",
    "\n",
    "print(\"4. Fourth word:\")\n",
    "print(f\"a) Regular expression: {fourth_word_regex}\")\n",
    "print(f\"b) Frequency: {fourth_word_frequency}\")\n",
    "print(f\"c) Fourth word: {fourth_word}\\n\")\n",
    "\n",
    "\"\"\"\n",
    "    The complete message shoudl be: 'zalima coka cola Pila de' \n",
    "\"\"\"\n",
    "five_word_message = f\"{first_word} {second_word_actual} {third_word_actual} {fourth_word} de\"\n",
    "print(\"5. Complete five-word message:\")\n",
    "print(five_word_message)\n"
   ]
  }
 ],
 "metadata": {
  "kernelspec": {
   "display_name": "base",
   "language": "python",
   "name": "python3"
  },
  "language_info": {
   "codemirror_mode": {
    "name": "ipython",
    "version": 3
   },
   "file_extension": ".py",
   "mimetype": "text/x-python",
   "name": "python",
   "nbconvert_exporter": "python",
   "pygments_lexer": "ipython3",
   "version": "3.11.5"
  }
 },
 "nbformat": 4,
 "nbformat_minor": 2
}
