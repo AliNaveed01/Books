{
 "cells": [
  {
   "cell_type": "markdown",
   "metadata": {},
   "source": [
    "## Predefined variables for assignment"
   ]
  },
  {
   "cell_type": "code",
   "execution_count": 47,
   "metadata": {},
   "outputs": [
    {
     "name": "stdout",
     "output_type": "stream",
     "text": [
      "subnibbles example:  1110\n"
     ]
    }
   ],
   "source": [
    "# given code for GF multiplication\n",
    "\n",
    "def gf_mult(a, b): \n",
    "    m = 0\n",
    "    while b:\n",
    "        if b & 1:\n",
    "            m ^= a\n",
    "        a <<= 1\n",
    "        if a & 0b10000:  # Checking if fourth bit is set\n",
    "            a ^= 0b10011\n",
    "        b >>= 1\n",
    "    return m\n",
    "\n",
    "#----------------------------------------------------------------\n",
    "\n",
    "# Define the substitution table\n",
    "substitution_table = {\n",
    "    \"0\": \"a\", # 0000 : 1010 and further all.\n",
    "    \"1\": \"0\",\n",
    "    \"2\": \"9\",\n",
    "    \"3\": \"e\",\n",
    "    \"4\": \"6\",\n",
    "    \"5\": \"3\",\n",
    "    \"6\": \"f\",\n",
    "    \"7\": \"5\",\n",
    "    \"8\": \"1\",\n",
    "    \"9\": \"d\",\n",
    "    \"a\": \"c\",\n",
    "    \"b\": \"7\",\n",
    "    \"c\": \"b\",\n",
    "    \"d\": \"4\",\n",
    "    \"e\": \"2\",\n",
    "    \"f\": \"8\"\n",
    "}\n",
    "\n",
    "s_box = {\n",
    "        '0000': '1010', '0001': '0000', '0010': '1001', '0011': '1110',\n",
    "        '0100': '0110', '0101': '0011', '0110': '1111', '0111': '0101',\n",
    "        '1000': '0001', '1001': '1101', '1010': '1100', '1011': '0111',\n",
    "        '1100': '1011', '1101': '0100', '1110': '0010', '1111': '1000'\n",
    "    }\n",
    "\n",
    "#----------------------------------------------------------------\n",
    "\n",
    "reverse_substitution_table = {v: k for k, v in substitution_table.items()} #making key, the value and value, the key.\n",
    "\n",
    "\n",
    "# Define the constant matrix\n",
    "constant_matrix = [\n",
    "    [1, 4],\n",
    "    [4, 1]\n",
    "]\n",
    "inverse_constant_matrix = [\n",
    "    [9, 2],\n",
    "    [2, 9]\n",
    "]\n",
    "\n",
    "\n",
    "# Define round constants\n",
    "rcon1 = \"1110\"\n",
    "rcon2 = \"1010\"\n",
    "rcons = [rcon1, rcon2] # can use it as list too\n",
    "\n",
    "\n",
    "# SUB NIBBLE FUNCTIONS FOR BINARY \n",
    "\n",
    "def sub_nibbles(nibble):\n",
    "    # Defining the S-Box based on the table provided\n",
    "    # plaintext:mapping \n",
    "    s_box = {\n",
    "        '0000': '1010', '0001': '0000', '0010': '1001', '0011': '1110',\n",
    "        '0100': '0110', '0101': '0011', '0110': '1111', '0111': '0101',\n",
    "        '1000': '0001', '1001': '1101', '1010': '1100', '1011': '0111',\n",
    "        '1100': '1011', '1101': '0100', '1110': '0010', '1111': '1000'\n",
    "    }\n",
    "    return s_box[nibble]\n",
    "\n",
    "# test run for subnibbles\n",
    "\n",
    "print(\"subnibbles example: \", sub_nibbles('0011'))"
   ]
  },
  {
   "cell_type": "markdown",
   "metadata": {},
   "source": [
    "## Basic Conversions"
   ]
  },
  {
   "cell_type": "code",
   "execution_count": 48,
   "metadata": {},
   "outputs": [
    {
     "name": "stdout",
     "output_type": "stream",
     "text": [
      "2198\n",
      "0010000110011000\n",
      "0100100001100101011011000110110001101111\n",
      "Hello\n"
     ]
    }
   ],
   "source": [
    "# basic conversions for futher use in the code below\n",
    "\n",
    "def hex_to_ascii(hex_number):\n",
    "    return hex_number.decode(\"hex\")\n",
    "def ascii_to_hex(ascii_str):\n",
    "    return ascii_str.encode(\"hex\")\n",
    "\n",
    "#----------------------------------------------------------------\n",
    "\n",
    "def bin_to_ascii(bin_number):\n",
    "    ascii_str = \"\"\n",
    "    for i in range(0, len(bin_number), 8):\n",
    "        chunk = bin_number[i:i+8]\n",
    "        ascii_char = chr(int(chunk, 2))\n",
    "        ascii_str += ascii_char\n",
    "    return ascii_str\n",
    "def ascii_to_bin(ascii_str):\n",
    "    bin_str = \"\"\n",
    "    for char in ascii_str:\n",
    "        bin_char = bin(ord(char))[2:].zfill(8)\n",
    "        bin_str += bin_char\n",
    "    return bin_str\n",
    "\n",
    "#----------------------------------------------------------------\n",
    "\n",
    "def bin_to_hex(bin_string):\n",
    "    hex_string = hex(int(bin_string, 2))[2:].zfill(4)\n",
    "    return hex_string\n",
    "\n",
    "def hex_to_bin(hex_string):\n",
    "    bin_string = bin(int(hex_string, 16))[2:].zfill(16)\n",
    "    return bin_string\n",
    "\n",
    "# ----------------------------------------------------------------\n",
    "\n",
    "#test runs \n",
    "\n",
    "Check = bin_to_hex('0010000110011000')\n",
    "print(Check)\n",
    "print(hex_to_bin(Check))\n",
    "\n",
    "binary_str = ascii_to_bin(\"Hello\")\n",
    "print(binary_str)  # Output: '0100100001100101011011000110110001101111'\n",
    "\n",
    "ascii_string = bin_to_ascii('0100100001100101011011000110110001101111')\n",
    "print(ascii_string)  # Output: 'Hello'\n"
   ]
  },
  {
   "cell_type": "markdown",
   "metadata": {},
   "source": [
    "### Shift Rows"
   ]
  },
  {
   "cell_type": "code",
   "execution_count": 49,
   "metadata": {},
   "outputs": [
    {
     "name": "stdout",
     "output_type": "stream",
     "text": [
      "1001000100101000\n"
     ]
    }
   ],
   "source": [
    "# Shifting the values of the original text block.\n",
    "def shift_row(text):\n",
    "    # return input_hex[2]+input_hex[1]+input_hex[0]+input_hex[3]\n",
    "    return text[8:12] + text[4:8] + text[0:4] + text[12:16]\n",
    "\n",
    "#test run\n",
    "print(shift_row('0010000110011000'))"
   ]
  },
  {
   "cell_type": "markdown",
   "metadata": {},
   "source": [
    "## Mix Column func"
   ]
  },
  {
   "cell_type": "code",
   "execution_count": 50,
   "metadata": {},
   "outputs": [
    {
     "name": "stdout",
     "output_type": "stream",
     "text": [
      "Mix columns examples:  0110100111111010\n"
     ]
    }
   ],
   "source": [
    "def mix_columns(text):\n",
    "    # Using the multiplication algorithm provided in the appendix\n",
    "    # Convert the text to a matrix format\n",
    "    c = [text[i:i+4] for i in range(0, len(text), 4)]\n",
    "\n",
    "\n",
    "    d0 = gf_mult(int(c[0], 2), 1) ^ gf_mult(int(c[1], 2), 4)\n",
    "    d1 = gf_mult(int(c[0], 2), 4) ^ gf_mult(int(c[1], 2), 1)\n",
    "    d2 = gf_mult(int(c[2], 2), 1) ^ gf_mult(int(c[3], 2), 4)\n",
    "    d3 = gf_mult(int(c[2], 2), 4) ^ gf_mult(int(c[3], 2), 1)\n",
    "    \n",
    "    return format(d0, '04b') + format(d1, '04b') + format(d2, '04b') + format(d3, '04b')\n",
    "\n",
    "\n",
    "# test run\n",
    "\n",
    "print(\"Mix columns examples: \", mix_columns('0010000110011000'))"
   ]
  },
  {
   "cell_type": "markdown",
   "metadata": {},
   "source": [
    "### Generating the Round keys"
   ]
  },
  {
   "cell_type": "code",
   "execution_count": 51,
   "metadata": {},
   "outputs": [
    {
     "name": "stdout",
     "output_type": "stream",
     "text": [
      "('1001001111001001', '1110110100011000')\n"
     ]
    }
   ],
   "source": [
    "def generate_round_keys(key):\n",
    "    w = [key[i:i+4] for i in range(0, len(key), 4)]\n",
    "    rcons = ['1110', '1010']\n",
    "    for i in range(1, 3):  # to generate two sets of round keys\n",
    "        w.append(format(int(w[4 * (i - 1)], 2) ^ int(sub_nibbles(w[4 * i - 1]), 2) ^ int(rcons[i - 1], 2), '04b'))\n",
    "        for j in range(1, 4):\n",
    "            w.append(format(int(w[4 * (i - 1) + j], 2) ^ int(w[4 * i + j - 1], 2), '04b'))\n",
    "    return ''.join(w[4:8]), ''.join(w[8:12])\n",
    "\n",
    "#test run \n",
    "print(generate_round_keys('0100101011110101'))"
   ]
  },
  {
   "cell_type": "code",
   "execution_count": 52,
   "metadata": {},
   "outputs": [],
   "source": [
    "def main():\n",
    "    text = input(\"Enter a text block: \") \n",
    "    key = input(\"Enter a key: \")\n",
    "    \n",
    "    \n",
    "    # converting into binary before further processing \n",
    "    \n",
    "    text_bin = hex_to_bin(text) \n",
    "    key_binary = hex_to_bin(key)\n",
    "    \n",
    "    #-------------------------------------------\n",
    "    \n",
    "    print(\"Text block entered : \", text)\n",
    "    print(\"Key entered : \", key)\n",
    "    \n",
    "    print(\"---------------------------------\\n\")\n",
    "    # printing the subnibbles in hex \n",
    "    \n",
    "    print(\"SubNibbles : \", bin_to_hex(\n",
    "        sub_nibbles(text_bin[:4]) + \n",
    "        sub_nibbles(text_bin[4:8]) + \n",
    "        sub_nibbles(text_bin[8:12]) + \n",
    "        sub_nibbles(text_bin[12:])\n",
    "    ))\n",
    "    \n",
    "    shifted = shift_row(text_bin)\n",
    "    print(\"ShiftRow : \", bin_to_hex(shifted))\n",
    "    mixed = mix_columns(text_bin)\n",
    "    print(\"MixColumns : \", bin_to_hex(mixed))\n",
    "\n",
    "    k1, k2 = generate_round_keys(key_binary)\n",
    "    print(\"GenerateRoundKeys : \", (bin_to_hex(\"\".join(k1)), bin_to_hex(\"\".join(k2))))"
   ]
  },
  {
   "cell_type": "code",
   "execution_count": 53,
   "metadata": {},
   "outputs": [
    {
     "name": "stdout",
     "output_type": "stream",
     "text": [
      "Text block entered :  903b\n",
      "Key entered :  2cc\n",
      "---------------------------------\n",
      "\n",
      "SubNibbles :  dae7\n",
      "ShiftRow :  309b\n",
      "MixColumns :  9297\n",
      "GenerateRoundKeys :  ('57b7', 'ad61')\n"
     ]
    }
   ],
   "source": [
    "main()"
   ]
  }
 ],
 "metadata": {
  "kernelspec": {
   "display_name": "Python 3",
   "language": "python",
   "name": "python3"
  },
  "language_info": {
   "codemirror_mode": {
    "name": "ipython",
    "version": 3
   },
   "file_extension": ".py",
   "mimetype": "text/x-python",
   "name": "python",
   "nbconvert_exporter": "python",
   "pygments_lexer": "ipython3",
   "version": "3.9.7"
  },
  "orig_nbformat": 4
 },
 "nbformat": 4,
 "nbformat_minor": 2
}
